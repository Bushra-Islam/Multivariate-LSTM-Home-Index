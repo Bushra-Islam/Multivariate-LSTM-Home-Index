{
  "cells": [
    {
      "cell_type": "markdown",
      "metadata": {
        "id": "f8DEMxIgavMa"
      },
      "source": [
        "# Modeling Housing Prices 2018 - 2022\n",
        "\n",
        "<i> Bushra Islam, Ha Bui, Geeta Apodaca, Ramya Venkatesan, Karthigalakshmi Ramasamy, Elizabeth Hall, and Ewa Godlewska </i>\n",
        "\n",
        "---\n",
        "\n"
      ]
    },
    {
      "cell_type": "markdown",
      "source": [
        "## Set-Up\n",
        "Set up the Google Drive to pull files. Files can also be imported directly when downloaded from GitHub. "
      ],
      "metadata": {
        "id": "YR7JOIgaSZKG"
      }
    },
    {
      "cell_type": "code",
      "execution_count": 3,
      "metadata": {
        "colab": {
          "base_uri": "https://localhost:8080/"
        },
        "id": "ocBHOxpVYwba",
        "outputId": "d6378c0a-c2a7-4b6b-8dc7-42dacaadc112"
      },
      "outputs": [
        {
          "output_type": "stream",
          "name": "stdout",
          "text": [
            "Mounted at /content/drive/\n"
          ]
        }
      ],
      "source": [
        "# to load the housing data drive go to google drive, \n",
        "# right click the housing data folder and add shortcut to drive, save in MyDrive\n",
        "\n",
        "# mount google drive with data folders\n",
        "from google.colab import drive\n",
        "drive.mount('/content/drive/')\n",
        "\n",
        "from IPython.display import set_matplotlib_formats\n",
        "set_matplotlib_formats('pdf', 'svg')"
      ]
    },
    {
      "cell_type": "code",
      "execution_count": null,
      "metadata": {
        "id": "CYObCe6WK62p"
      },
      "outputs": [],
      "source": [
        "!pip install prophet\n",
        "!pip install pmdarima\n",
        "\n",
        "# Data processing\n",
        "import numpy as np\n",
        "import pandas as pd\n",
        "import pmdarima as pm\n",
        "from pandas import DataFrame\n",
        "from datetime import datetime,timedelta\n",
        "from numpy import concatenate\n",
        "import tensorflow as tf\n",
        "from pandas import concat\n",
        "from pandas import DataFrame\n",
        "\n",
        "\n",
        "# modeling\n",
        "from prophet import Prophet\n",
        "from prophet.plot import add_changepoints_to_plot, plot_cross_validation_metric\n",
        "from prophet.utilities import regressor_coefficients\n",
        "from prophet.diagnostics import cross_validation, performance_metrics\n",
        "from statsmodels.tsa.stattools import adfuller\n",
        "from statsmodels.graphics.tsaplots import plot_acf,plot_pacf\n",
        "import statsmodels.api as sm\n",
        "from sklearn.model_selection import TimeSeriesSplit\n",
        "from statsmodels.tsa.arima.model import ARIMA\n",
        "from sklearn.feature_selection import RFE\n",
        "from sklearn.ensemble import RandomForestRegressor\n",
        "from math import sqrt\n",
        "from tensorflow.keras.models import Sequential\n",
        "from tensorflow.keras.layers import Dense\n",
        "from tensorflow.keras.layers import LSTM\n",
        "from sklearn.preprocessing import MinMaxScaler\n",
        "from sklearn import metrics\n",
        "from sklearn.metrics import mean_squared_error\n",
        "from sklearn.preprocessing import LabelEncoder\n",
        "from statsmodels.tsa.statespace.sarimax import SARIMAX\n",
        "\n",
        "# Visualization\n",
        "import plotly.graph_objs as go\n",
        "import matplotlib.pyplot as plt\n",
        "import seaborn as sns\n",
        "from matplotlib import pyplot\n",
        "\n",
        "# convert series to supervised learning\n",
        "def series_to_supervised(data, n_in=1, n_out=1, dropnan=True):\n",
        "\tn_vars = 1 if type(data) is list else data.shape[1]\n",
        "\tdf = DataFrame(data)\n",
        "\tcols, names = list(), list()\n",
        "\t# input sequence (t-n, ... t-1)\n",
        "\tfor i in range(n_in, 0, -1):\n",
        "\t\tcols.append(df.shift(i))\n",
        "\t\tnames += [('var%d(t-%d)' % (j+1, i)) for j in range(n_vars)]\n",
        "\t# forecast sequence (t, t+1, ... t+n)\n",
        "\tfor i in range(0, n_out):\n",
        "\t\tcols.append(df.shift(-i))\n",
        "\t\tif i == 0:\n",
        "\t\t\tnames += [('var%d(t)' % (j+1)) for j in range(n_vars)]\n",
        "\t\telse:\n",
        "\t\t\tnames += [('var%d(t+%d)' % (j+1, i)) for j in range(n_vars)]\n",
        "\t# put it all together\n",
        "\tagg = concat(cols, axis=1)\n",
        "\tagg.columns = names\n",
        "\t# drop rows with NaN values\n",
        "\tif dropnan:\n",
        "\t\tagg.dropna(inplace=True)\n",
        "\treturn agg"
      ]
    },
    {
      "cell_type": "markdown",
      "source": [
        "Loading in the modeling data, subsetting the correct years, and splitting in to test and train"
      ],
      "metadata": {
        "id": "VzpEd-dIRzKn"
      }
    },
    {
      "cell_type": "code",
      "execution_count": 24,
      "metadata": {
        "id": "yW4Zc96KXf7Y"
      },
      "outputs": [],
      "source": [
        "# load the data from the drive\n",
        "df = pd.read_csv ('/content/drive/MyDrive/ds4_housing_data/housing_data_for_modeling_v2.csv')\n",
        "\n",
        "# set the time to pd datetime format\n",
        "df['time']=pd.to_datetime(df['time'])\n",
        "df = df.loc[df['time'] < '2022-06-01']\n",
        "\n",
        "df_time1_train = df.loc[(df[\"time\"] >= \"2005-01-01\") & (df[\"time\"]<=\"2018-12-01\")]\n",
        "df_time1_test = df.loc[df[\"time\"] >= \"2019-01-01\"]\n",
        "\n",
        "df_time1_train_raw = df_time1_train\n",
        "df_time1_test_raw = df_time1_test\n",
        "df_time1_raw = pd.concat([df_time1_train_raw, df_time1_test_raw])\n",
        "\n",
        "df_time1_train = df_time1_train.drop(['Unnamed: 0', 'housing_price', 'rental_price', 'inflation_rate',\n",
        "       'property_tax_rate', 'median_age_homebuyers', 'housing_starts',\n",
        "       'interest_rate', 'mortgage_rate', 'mortgage_to_income_rate',\n",
        "       'work_home_rate'],axis=1)\n",
        "df_time1_test = df_time1_test.drop(['Unnamed: 0', 'housing_price', 'rental_price', 'inflation_rate',\n",
        "       'property_tax_rate', 'median_age_homebuyers', 'housing_starts',\n",
        "       'interest_rate', 'mortgage_rate', 'mortgage_to_income_rate',\n",
        "       'work_home_rate'] ,axis=1)\n",
        "\n",
        "df_time1 = pd.concat([df_time1_train, df_time1_test])"
      ]
    },
    {
      "cell_type": "markdown",
      "metadata": {
        "id": "_HFV1jm7m6oP"
      },
      "source": [
        "## ARIMA \n",
        "<p> This is an autoregressive intergrated moving average model of housing prices. We set p, d, and q values manually from our observations. </p>\n",
        "\n",
        "<b> ARIMA (p,d,q) </b>\n",
        "<br>\n",
        "<b> p: </b> the number of lag observations in the model, also known as the lag order (it is for AR(p) part). <br>\n",
        "<b> d: </b>the number of times that the raw observations are differenced; also known as the degree of differencing (we did second difference here). <br>\n",
        "<b>q: </b>the size of the moving average window; also known as the order of the moving average (it is for MA(q) part)\n"
      ]
    },
    {
      "cell_type": "code",
      "execution_count": null,
      "metadata": {
        "id": "6xtSpiQhMNTt"
      },
      "outputs": [],
      "source": [
        "ARIMA_model=ARIMA(df_time1_train['diff_housing_price'], order=(1,2,1))\n",
        "\n",
        "ARIMA_model_fit=ARIMA_model.fit()\n",
        "\n",
        "df_results=df_time1_test[['time','diff_housing_price']]\n",
        "col = 'housing_price'\n",
        "pred_startdate=df_time1_test.index[0]\n",
        "pred_enddate=df_time1_test.index[-1]\n",
        "\n",
        "# saving forecasts in \"differenced\" values to df results to later invert\n",
        "df_results['ARIMA_Forecast']=ARIMA_model_fit.predict(start=pred_startdate,end=pred_enddate)\n"
      ]
    },
    {
      "cell_type": "markdown",
      "source": [
        "## SARIMA\n",
        "An autoregessive model that includes a trend for seasonality"
      ],
      "metadata": {
        "id": "w4nOIRqscg4B"
      }
    },
    {
      "cell_type": "code",
      "source": [
        "#SARIMA Model (takes in to account seasonality, just sarima without exogenous )\n",
        "\n",
        "SARIMA_model=SARIMAX(df_time1_train['diff_housing_price'],order=(3,0,5),seasonal_order=(0,1,0,12))\n",
        "SARIMA_model_fit=SARIMA_model.fit()\n",
        "\n",
        "\n",
        "# save the predicted values \n",
        "df_results['predicted_housing_price_SARIMA']=SARIMA_model_fit.predict(start=pred_startdate,end=pred_enddate)\n",
        "residuals_SARIMA=df_time1_test['diff_housing_price']-df_results['predicted_housing_price_SARIMA']"
      ],
      "metadata": {
        "id": "8rpyxutqcn7Y"
      },
      "execution_count": null,
      "outputs": []
    },
    {
      "cell_type": "markdown",
      "metadata": {
        "id": "OkYDmyz2w9mo"
      },
      "source": [
        "## ARIMAX \n",
        "\n",
        "<p> This is an autoregressive intergrated moving average model of housing prices using exogenous variables. We have the model looping through to find the optimal p, d, and q values. </p>\n",
        "\n"
      ]
    },
    {
      "cell_type": "code",
      "execution_count": null,
      "metadata": {
        "id": "LIhiYB2niXCU"
      },
      "outputs": [],
      "source": [
        "# ARIMAX Model, has the exogenous variables\n",
        "df_time1_train_autoarima = df_time1_train_raw.iloc[:,1:12]\n",
        "df_time1_test_autoarima = df_time1_test_raw.iloc[:,1:12]\n",
        "\n",
        "axmodel1 = pm.auto_arima(df_time1_train_autoarima[['housing_price']], exogenous=df_time1_train_autoarima.loc[:,'rental_price':'interest_rate'],\n",
        "                           start_p=1, start_q=1,\n",
        "                           test='adf',\n",
        "                           max_p=5, max_q=5, m=12,\n",
        "                           start_P=0, seasonal=False,\n",
        "                           d=2, D=0, trace=True,\n",
        "                           error_action='ignore',  \n",
        "                           suppress_warnings=True, \n",
        "                           stepwise=True)\n",
        "\n",
        "# save the results to the results df\n",
        "df_results['predicted_housing_price_ARIMAX1']=axmodel1.predict(exogenous=df_time1_test_autoarima.loc[:,'rental_price':'interest_rate'],n_periods = len(df_time1_test_autoarima))\n"
      ]
    },
    {
      "cell_type": "markdown",
      "metadata": {
        "id": "VqZW3-RPy0J3"
      },
      "source": [
        "## SARIMAX\n",
        "SARIMAX is an autoregressive model that includes a trend for seasonalitity and the exogenous variables."
      ]
    },
    {
      "cell_type": "code",
      "execution_count": null,
      "metadata": {
        "id": "pypaHpZWSb8z"
      },
      "outputs": [],
      "source": [
        "#SARIMAX Model with exogenous variables\n",
        "\n",
        "sxmodel1 = pm.auto_arima(df_time1_train_autoarima[['housing_price']], exogenous=df_time1_train_autoarima.loc[:,'rental_price':'interest_rate'],\n",
        "                           start_p=1, start_q=1,\n",
        "                           test='adf',\n",
        "                           max_p=4, max_q=4, m=12,\n",
        "                           start_P=0, start_Q=0,seasonal=True,\n",
        "                           d=2, D=2, trace=True,\n",
        "                           error_action='ignore',  \n",
        "                           suppress_warnings=True, \n",
        "                           stepwise=True)\n",
        "\n",
        "df_results['predicted_housing_price_SARIMAX1']=sxmodel1.predict(exogenous=df_time1_test_autoarima.loc[:,'rental_price':'interest_rate'],n_periods = len(df_time1_test))\n"
      ]
    },
    {
      "cell_type": "markdown",
      "metadata": {
        "id": "xK8SwOykz32z"
      },
      "source": [
        "## LSTM Multivariate\n",
        "A long short term memory recurrent network model. Learns what sequences and variables are the most predictive are forgets those that are not as predictive. "
      ]
    },
    {
      "cell_type": "code",
      "execution_count": 28,
      "metadata": {
        "id": "K51odfdqbB-o"
      },
      "outputs": [],
      "source": [
        "# fix random seed for reproducibility\n",
        "tf.random.set_seed(7)\n",
        "\n",
        "dataframe2_1 = df_time1\n",
        "\n",
        "dataframe2 = dataframe2_1.drop(['time'], axis = 1) \n",
        "\n",
        "dataset = dataframe2.to_numpy()\n",
        "\n",
        "# normalize features\n",
        "scaler = MinMaxScaler(feature_range=(0, 1))\n",
        "scaled = scaler.fit_transform(dataset)\n",
        "\n",
        "# frame as supervised learning\n",
        "reframed = series_to_supervised(scaled, 1, 1)\n",
        "\n",
        "# drop columns we don't want to predict\n",
        "reframed.drop(reframed.columns[[11,12,13,14,15,16,17,18,19]], axis=1, inplace=True)\n",
        "\n",
        "# split into train and test sets\n",
        "values = reframed.values\n",
        "train_size = int(len(dataset) * len(df_time1_train) / len (dataset)) -1\n",
        "test_size = len(dataset) - train_size\n",
        "train, test = values[0:train_size,:], values[train_size:len(dataset),:]\n",
        "\n",
        "train_X, train_y = train[:, :-1], train[:, -1]\n",
        "test_X, test_y = test[:, :-1], test[:, -1]\n",
        "\n",
        "# reshape input to be 3D [samples, timesteps, features]\n",
        "train_X = train_X.reshape((train_X.shape[0], 1, train_X.shape[1]))\n",
        "test_X = test_X.reshape((test_X.shape[0], 1, test_X.shape[1]))\n",
        "\n",
        "# design network\n",
        "model = Sequential()\n",
        "model.add(LSTM(32, input_shape=(train_X.shape[1], train_X.shape[2])))\n",
        "model.add(Dense(1))\n",
        "\n",
        "\n",
        "#model.compile(loss='mae', optimizer='adam')\n",
        "model.compile(loss='mean_squared_error', optimizer='adam')\n",
        "# fit network\n",
        "history = model.fit(train_X, train_y, epochs=200, batch_size=5, validation_data=(test_X, test_y), verbose=0, shuffle=False)\n",
        "\n",
        "# make a prediction\n",
        "yhat = model.predict(test_X)\n",
        "test_X = test_X.reshape((test_X.shape[0], test_X.shape[2]))\n",
        "\n",
        "# invert scaling for forecast\n",
        "inv_yhat = concatenate((yhat, test_X[:, 1:]), axis=1)\n",
        "inv_yhat = scaler.inverse_transform(inv_yhat)\n",
        "inv_yhat = inv_yhat[:,0]\n",
        "\n",
        "# invert scaling for actual\n",
        "test_y = test_y.reshape((len(test_y), 1))\n",
        "inv_y = concatenate((test_y, test_X[:, 1:]), axis=1)\n",
        "inv_y = scaler.inverse_transform(inv_y)\n",
        "inv_y = inv_y[:,0]\n",
        "\n",
        "#rows_count = len(dataset)\n",
        "#print(rows_count)\n",
        "\n",
        "# calculate RMSE\n",
        "rmse = sqrt(mean_squared_error(inv_y, inv_yhat))\n",
        "#print('Test RMSE: %.3f' % rmse)"
      ]
    },
    {
      "cell_type": "markdown",
      "metadata": {
        "id": "C0erE7pyL-ms"
      },
      "source": [
        "## Prophet\n"
      ]
    },
    {
      "cell_type": "code",
      "execution_count": null,
      "metadata": {
        "id": "Ohz91T1WbEtV"
      },
      "outputs": [],
      "source": [
        "# Prophet / Neural Prophet ---> Beth\n",
        "df_prophet = df_time1_train\n",
        "df_prophet.columns= ['ds', 'y', 'diff_rental_price',\n",
        "       'diff_inflation_rate', 'diff_property_tax_rate',\n",
        "       'diff_median_age_homebuyers', 'diff_housing_starts',\n",
        "       'diff_mortgage_rate', 'diff_mortgage_to_income_rate',\n",
        "       'diff_work_home_rate', 'diff_interest_rate']\n",
        "df_prophet_test = df_time1_test\n",
        "df_prophet_test.columns = ['ds', 'y', 'diff_rental_price',\n",
        "       'diff_inflation_rate', 'diff_property_tax_rate',\n",
        "       'diff_median_age_homebuyers', 'diff_housing_starts',\n",
        "       'diff_mortgage_rate', 'diff_mortgage_to_income_rate',\n",
        "       'diff_work_home_rate', 'diff_interest_rate']\n",
        "\n",
        "# Build and fit a Prophet model\n",
        "model = Prophet()\n",
        "model.add_regressor('diff_rental_price', standardize=False)\n",
        "model.add_regressor('diff_inflation_rate', standardize=False)\n",
        "model.add_regressor('diff_property_tax_rate', standardize=False)\n",
        "model.add_regressor('diff_median_age_homebuyers', standardize=False)\n",
        "model.add_regressor('diff_housing_starts', standardize=False)\n",
        "model.add_regressor('diff_mortgage_rate', standardize=False)\n",
        "model.add_regressor('diff_mortgage_to_income_rate', standardize=False)\n",
        "model.add_regressor('diff_work_home_rate', standardize=False)\n",
        "model.add_regressor('diff_interest_rate', standardize=False)\n",
        "model.fit(df_prophet)\n",
        "# Create a data frame for predictions\n",
        "future = model.make_future_dataframe(periods=len(df_time1_test), freq='MS')\n",
        "# Make predictions and print them\n",
        "forecast = model.predict(df_prophet_test.drop(columns=\"y\"))\n",
        "forecast[['ds', 'yhat', 'yhat_lower', 'yhat_upper']].tail()\n",
        "\n",
        "df_results[\"predicted_housing_price_Prophet\"] = list(forecast[\"yhat\"])"
      ]
    },
    {
      "cell_type": "markdown",
      "metadata": {
        "id": "-C4kfHb1GHab"
      },
      "source": [
        "## Random Forest "
      ]
    },
    {
      "cell_type": "code",
      "execution_count": 32,
      "metadata": {
        "id": "a5kIN-PdGJpD"
      },
      "outputs": [],
      "source": [
        "# create lag of dependent variable to use as one of independent variables\n",
        "df['lag_y'] = df['diff_housing_price'].shift(1)\n",
        "\n",
        "# take the two time periods of interest\n",
        "df_time1_train = df.loc[(df[\"time\"] >= \"2005-01-01\") & (df[\"time\"]<=\"2018-12-01\")]\n",
        "df_time1_test = df.loc[df[\"time\"] >= \"2019-01-01\"]\n",
        "\n",
        "df_time1_train_raw = df_time1_train\n",
        "df_time1_test_raw = df_time1_test\n",
        "\n",
        "df_time1_train = df_time1_train.drop(['Unnamed: 0', 'housing_price', 'rental_price', 'inflation_rate',\n",
        "       'property_tax_rate', 'median_age_homebuyers', 'housing_starts',\n",
        "       'interest_rate', 'mortgage_rate', 'mortgage_to_income_rate',\n",
        "       'work_home_rate'],axis=1)\n",
        "df_time1_test = df_time1_test.drop(['Unnamed: 0', 'housing_price', 'rental_price', 'inflation_rate',\n",
        "       'property_tax_rate', 'median_age_homebuyers', 'housing_starts',\n",
        "       'interest_rate', 'mortgage_rate', 'mortgage_to_income_rate',\n",
        "       'work_home_rate'] ,axis=1)\n",
        "\n",
        "df_time1 = pd.concat([df_time1_train, df_time1_test])\n",
        "\n",
        "\n",
        "# select train & test data (just rename columns here)\n",
        "df_rf = df_time1_train\n",
        "df_rf.columns= ['ds', 'y', 'diff_rental_price',\n",
        "       'diff_inflation_rate', 'diff_property_tax_rate',\n",
        "       'diff_median_age_homebuyers', 'diff_housing_starts',\n",
        "       'diff_mortgage_rate', 'diff_mortgage_to_income_rate',\n",
        "       'diff_work_home_rate', 'diff_interest_rate','lag_y']\n",
        "df_rf_test = df_time1_test\n",
        "df_rf_test.columns = ['ds', 'y', 'diff_rental_price',\n",
        "       'diff_inflation_rate', 'diff_property_tax_rate',\n",
        "       'diff_median_age_homebuyers', 'diff_housing_starts',\n",
        "       'diff_mortgage_rate', 'diff_mortgage_to_income_rate',\n",
        "       'diff_work_home_rate', 'diff_interest_rate','lag_y']\n",
        "\n",
        "\n",
        "y_train = df_rf['y']\n",
        "y_test = df_rf_test['y']   #pandas series\n",
        "X_train = df_rf[['diff_rental_price',\n",
        "       'diff_inflation_rate', 'diff_property_tax_rate',\n",
        "       'diff_median_age_homebuyers', 'diff_housing_starts',\n",
        "       'diff_mortgage_rate', 'diff_mortgage_to_income_rate',\n",
        "       'diff_work_home_rate', 'diff_interest_rate','lag_y']]  #dataframe\n",
        "X_test = df_rf_test[['diff_rental_price',\n",
        "       'diff_inflation_rate', 'diff_property_tax_rate',\n",
        "       'diff_median_age_homebuyers', 'diff_housing_starts',\n",
        "       'diff_mortgage_rate', 'diff_mortgage_to_income_rate',\n",
        "       'diff_work_home_rate', 'diff_interest_rate','lag_y']]\n",
        "\n",
        "# drop NAN in train\n",
        "X_train = X_train.iloc[1:,:]\n",
        "y_train = y_train.iloc[1:]\n",
        "\n",
        "## Fit model\n",
        "\n",
        "# n_estimators = number of trees\n",
        "# step: number of independent variables \n",
        "\n",
        "rfe = RFE( RandomForestRegressor(n_estimators=600, random_state=1), step = 9)\n",
        "fit = rfe.fit(X_train, y_train)\n",
        "y_hat_rf = fit.predict(X_test)\n",
        "\n",
        "# save y_hat to a column in dataframe df_results t\n",
        "df_results[\"predicted_housing_price_Random_forest\"] = y_hat_rf.tolist()"
      ]
    },
    {
      "cell_type": "markdown",
      "metadata": {
        "id": "_9OPQly0QAq6"
      },
      "source": [
        "## Inverse Transformation"
      ]
    },
    {
      "cell_type": "markdown",
      "metadata": {
        "id": "ByzRi7g0eKsB"
      },
      "source": [
        "df_time1_train_raw[col] : original column values (undifferenced)\n",
        "\n",
        "df_results[] : forecasted values "
      ]
    },
    {
      "cell_type": "code",
      "execution_count": 36,
      "metadata": {
        "id": "XZUEs7LqP-Yp"
      },
      "outputs": [],
      "source": [
        "col = 'housing_price'\n",
        "\n",
        "df_results[str(col)+'_1d'] = (df_time1_train_raw[col].iloc[-1]-df_time1_train_raw[col].iloc[-2]) + df_results['ARIMA_Forecast'].cumsum()\n",
        "df_results[str(col)+'_ARIMA_forecast'] = df_time1_train_raw[col].iloc[-1] + df_results[str(col)+'_1d'].cumsum()\n",
        "\n",
        "df_results[str(col)+'_1d'] = (df_time1_train_raw[col].iloc[-1]-df_time1_train_raw[col].iloc[-2]) + df_results['predicted_housing_price_SARIMA'].cumsum()\n",
        "df_results[str(col)+'_SARIMA_forecast'] = df_time1_train_raw[col].iloc[-1] + df_results[str(col)+'_1d'].cumsum()\n",
        "\n",
        "df_results[\"predicted_housing_price_LSTM\"] = inv_yhat\n",
        "\n",
        "df_results[str(col)+'_1d'] = (df_time1_train_raw[col].iloc[-1]-df_time1_train_raw[col].iloc[-2]) + df_results['predicted_housing_price_LSTM'].cumsum()\n",
        "df_results[str(col)+'_LSTM_forecast'] = df_time1_train_raw[col].iloc[-1] + df_results[str(col)+'_1d'].cumsum()\n",
        "\n",
        "df_results[str(col)+'_1d'] = (df_time1_train_raw[col].iloc[-1]-df_time1_train_raw[col].iloc[-2]) + df_results['predicted_housing_price_Prophet'].cumsum()\n",
        "df_results[str(col)+'_Prophet_forecast'] = df_time1_train_raw[col].iloc[-1] + df_results[str(col)+'_1d'].cumsum()\n",
        "df_results[str(col)+'_1d'] = (df_time1_train_raw[col].iloc[-1]-df_time1_train_raw[col].iloc[-2]) + df_results['predicted_housing_price_Random_forest'].cumsum()\n",
        "df_results[str(col)+'_Randomforest_forecast'] = df_time1_train_raw[col].iloc[-1] + df_results[str(col)+'_1d'].cumsum()"
      ]
    },
    {
      "cell_type": "markdown",
      "source": [
        "## Plot model performance\n",
        "\n",
        "\n"
      ],
      "metadata": {
        "id": "OFxXjJgKYV8C"
      }
    },
    {
      "cell_type": "code",
      "source": [
        "df_time1_test_raw[\"time\"] = df_time1_test_raw[\"time\"].dt.strftime('%b %Y').str.upper()\n",
        "housing_price = pd.DataFrame(df_time1_test_raw['housing_price'].pct_change())\n",
        "housing_price[\"time\"] = df_time1_test_raw[\"time\"]\n",
        "housing_price.columns = [\"price\", \"time\"]\n",
        "housing_price = housing_price.reset_index()\n",
        "\n",
        "# reformating results to plot\n",
        "ARIMAX = pd.DataFrame(df_results['predicted_housing_price_ARIMAX1'].pct_change())\n",
        "ARIMAX[\"time\"] = df_time1_test_raw[\"time\"]\n",
        "ARIMAX.columns = [\"price\", \"time\"]\n",
        "ARIMAX[\"model\"] = 'ARIMAX'\n",
        "ARIMAX = ARIMAX.reset_index()\n",
        "SARIMAX = pd.DataFrame(df_results['predicted_housing_price_SARIMAX1'].pct_change())\n",
        "SARIMAX[\"time\"] = df_time1_test_raw[\"time\"]\n",
        "SARIMAX.columns = [\"price\", \"time\"]\n",
        "SARIMAX[\"model\"] = 'SARIMAX'\n",
        "SARIMAX = SARIMAX.reset_index()\n",
        "ARIMA = pd.DataFrame(df_results['housing_price_ARIMA_forecast'].pct_change())\n",
        "ARIMA[\"time\"] = df_time1_test_raw[\"time\"]\n",
        "ARIMA.columns = [\"price\", \"time\"]\n",
        "ARIMA[\"model\"] = 'ARIMA'\n",
        "ARIMA = ARIMA.reset_index()\n",
        "SARIMA = pd.DataFrame(df_results['housing_price_SARIMA_forecast'].pct_change())\n",
        "SARIMA[\"time\"] = df_time1_test_raw[\"time\"]\n",
        "SARIMA.columns = [\"price\", \"time\"]\n",
        "SARIMA[\"model\"] = 'SARIMA'\n",
        "SARIMA = SARIMA.reset_index()\n",
        "LSTM = pd.DataFrame(df_results['housing_price_LSTM_forecast'].pct_change())\n",
        "LSTM[\"time\"] = df_time1_test_raw[\"time\"]\n",
        "LSTM.columns = [\"price\", \"time\"]\n",
        "LSTM[\"model\"] = 'LSTM'\n",
        "LSTM = LSTM.reset_index()\n",
        "RandomForest = pd.DataFrame(df_results['housing_price_Randomforest_forecast'].pct_change())\n",
        "RandomForest[\"time\"] = df_time1_test_raw[\"time\"]\n",
        "RandomForest.columns = [\"price\", \"time\"]\n",
        "RandomForest[\"model\"] = 'RandomForest'\n",
        "RandomForest = RandomForest.reset_index()\n",
        "Prophet = pd.DataFrame(df_results['housing_price_Prophet_forecast'].pct_change())\n",
        "Prophet[\"time\"] = df_time1_test_raw[\"time\"]\n",
        "Prophet.columns = [\"price\", \"time\"]\n",
        "Prophet[\"model\"] = 'Prophet'\n",
        "Prophet = Prophet.reset_index()\n",
        "models = pd.concat([ARIMA, SARIMA, ARIMAX, SARIMAX, RandomForest, Prophet, LSTM], axis=0).dropna().reset_index()\n",
        "\n",
        "# plot!\n",
        "plt.rcParams.update({'font.size': 16})\n",
        "hue_order = [\"LSTM\", \"RandomForest\", \"ARIMA\", \"ARIMAX\", \"Prophet\", \"SARIMA\", \"SARIMAX\"]\n",
        "fig, ax1 = plt.subplots(figsize=(14,8))\n",
        "sns.barplot(x=\"time\", y=\"price\", data=housing_price, color=\"lightgrey\", ax=ax1)\n",
        "plt.xticks(housing_price.index, housing_price[\"time\"].values, rotation=90)\n",
        "ax2 = ax1.twinx()\n",
        "ax2 = ax1.twiny()\n",
        "sns.lineplot(x=\"time\", y=\"price\", hue=\"model\", data=models, palette=\"YlGnBu_r\", hue_order= hue_order, ax=ax2, linewidth=3)\n",
        "ax2.set(xlabel=None)\n",
        "ax2.set(ylabel=None)\n",
        "ax1.set(ylabel=\"Percent Change in Home Prices\")\n",
        "ax2.legend(loc='upper left',  ncol = 2, fancybox=True, shadow=True)\n",
        "ax1.set(xlabel=None)\n",
        "ax2.axis('off')\n",
        "plt.tight_layout()\n",
        "plt.savefig('models.png', dpi=600, transparent=False)"
      ],
      "metadata": {
        "id": "6qQ55HKWFT_U",
        "colab": {
          "base_uri": "https://localhost:8080/",
          "height": 867
        },
        "outputId": "ed15afd1-eaf1-49d5-d2f3-8eb261646c18"
      },
      "execution_count": 40,
      "outputs": [
        {
          "output_type": "stream",
          "name": "stderr",
          "text": [
            "/usr/local/lib/python3.7/dist-packages/ipykernel_launcher.py:1: SettingWithCopyWarning: \n",
            "A value is trying to be set on a copy of a slice from a DataFrame.\n",
            "Try using .loc[row_indexer,col_indexer] = value instead\n",
            "\n",
            "See the caveats in the documentation: https://pandas.pydata.org/pandas-docs/stable/user_guide/indexing.html#returning-a-view-versus-a-copy\n",
            "  \"\"\"Entry point for launching an IPython kernel.\n"
          ]
        },
        {
          "output_type": "display_data",
          "data": {
            "text/plain": [
              "<Figure size 1008x576 with 3 Axes>"
            ],
            "image/svg+xml": "<?xml version=\"1.0\" encoding=\"utf-8\" standalone=\"no\"?>\n<!DOCTYPE svg PUBLIC \"-//W3C//DTD SVG 1.1//EN\"\n  \"http://www.w3.org/Graphics/SVG/1.1/DTD/svg11.dtd\">\n<!-- Created with matplotlib (https://matplotlib.org/) -->\n<svg height=\"555.84125pt\" version=\"1.1\" viewBox=\"0 0 988.3025 555.84125\" width=\"988.3025pt\" xmlns=\"http://www.w3.org/2000/svg\" xmlns:xlink=\"http://www.w3.org/1999/xlink\">\n <defs>\n  <style type=\"text/css\">\n*{stroke-linecap:butt;stroke-linejoin:round;}\n  </style>\n </defs>\n <g id=\"figure_1\">\n  <g id=\"patch_1\">\n   <path d=\"M 0 555.84125 \nL 988.3025 555.84125 \nL 988.3025 0 \nL 0 0 \nz\n\" style=\"fill:none;\"/>\n  </g>\n  <g id=\"axes_1\">\n   <g id=\"patch_2\">\n    <path d=\"M 82.7175 459.96875 \nL 948.6575 459.96875 \nL 948.6575 13.27875 \nL 82.7175 13.27875 \nz\n\" style=\"fill:#ffffff;\"/>\n   </g>\n   <g id=\"patch_3\">\n    <path clip-path=\"url(#p01beef44a8)\" d=\"z\n\" style=\"fill:#d3d3d3;\"/>\n   </g>\n   <g id=\"patch_4\">\n    <path clip-path=\"url(#p01beef44a8)\" d=\"M 105.950037 230.183027 \nL 122.846427 230.183027 \nL 122.846427 191.838746 \nL 105.950037 191.838746 \nz\n\" style=\"fill:#d3d3d3;\"/>\n   </g>\n   <g id=\"patch_5\">\n    <path clip-path=\"url(#p01beef44a8)\" d=\"M 127.070524 230.183027 \nL 143.966915 230.183027 \nL 143.966915 197.375919 \nL 127.070524 197.375919 \nz\n\" style=\"fill:#d3d3d3;\"/>\n   </g>\n   <g id=\"patch_6\">\n    <path clip-path=\"url(#p01beef44a8)\" d=\"M 148.191012 230.183027 \nL 165.087402 230.183027 \nL 165.087402 201.933402 \nL 148.191012 201.933402 \nz\n\" style=\"fill:#d3d3d3;\"/>\n   </g>\n   <g id=\"patch_7\">\n    <path clip-path=\"url(#p01beef44a8)\" d=\"M 169.3115 230.183027 \nL 186.20789 230.183027 \nL 186.20789 204.172327 \nL 169.3115 204.172327 \nz\n\" style=\"fill:#d3d3d3;\"/>\n   </g>\n   <g id=\"patch_8\">\n    <path clip-path=\"url(#p01beef44a8)\" d=\"M 190.431988 230.183027 \nL 207.328378 230.183027 \nL 207.328378 205.994669 \nL 190.431988 205.994669 \nz\n\" style=\"fill:#d3d3d3;\"/>\n   </g>\n   <g id=\"patch_9\">\n    <path clip-path=\"url(#p01beef44a8)\" d=\"M 211.552476 230.183027 \nL 228.448866 230.183027 \nL 228.448866 208.041874 \nL 211.552476 208.041874 \nz\n\" style=\"fill:#d3d3d3;\"/>\n   </g>\n   <g id=\"patch_10\">\n    <path clip-path=\"url(#p01beef44a8)\" d=\"M 232.672963 230.183027 \nL 249.569354 230.183027 \nL 249.569354 207.814254 \nL 232.672963 207.814254 \nz\n\" style=\"fill:#d3d3d3;\"/>\n   </g>\n   <g id=\"patch_11\">\n    <path clip-path=\"url(#p01beef44a8)\" d=\"M 253.793451 230.183027 \nL 270.689841 230.183027 \nL 270.689841 204.89751 \nL 253.793451 204.89751 \nz\n\" style=\"fill:#d3d3d3;\"/>\n   </g>\n   <g id=\"patch_12\">\n    <path clip-path=\"url(#p01beef44a8)\" d=\"M 274.913939 230.183027 \nL 291.810329 230.183027 \nL 291.810329 201.805234 \nL 274.913939 201.805234 \nz\n\" style=\"fill:#d3d3d3;\"/>\n   </g>\n   <g id=\"patch_13\">\n    <path clip-path=\"url(#p01beef44a8)\" d=\"M 296.034427 230.183027 \nL 312.930817 230.183027 \nL 312.930817 200.982179 \nL 296.034427 200.982179 \nz\n\" style=\"fill:#d3d3d3;\"/>\n   </g>\n   <g id=\"patch_14\">\n    <path clip-path=\"url(#p01beef44a8)\" d=\"M 317.154915 230.183027 \nL 334.051305 230.183027 \nL 334.051305 197.420046 \nL 317.154915 197.420046 \nz\n\" style=\"fill:#d3d3d3;\"/>\n   </g>\n   <g id=\"patch_15\">\n    <path clip-path=\"url(#p01beef44a8)\" d=\"M 338.275402 230.183027 \nL 355.171793 230.183027 \nL 355.171793 191.350656 \nL 338.275402 191.350656 \nz\n\" style=\"fill:#d3d3d3;\"/>\n   </g>\n   <g id=\"patch_16\">\n    <path clip-path=\"url(#p01beef44a8)\" d=\"M 359.39589 230.183027 \nL 376.29228 230.183027 \nL 376.29228 185.194077 \nL 359.39589 185.194077 \nz\n\" style=\"fill:#d3d3d3;\"/>\n   </g>\n   <g id=\"patch_17\">\n    <path clip-path=\"url(#p01beef44a8)\" d=\"M 380.516378 230.183027 \nL 397.412768 230.183027 \nL 397.412768 179.894273 \nL 380.516378 179.894273 \nz\n\" style=\"fill:#d3d3d3;\"/>\n   </g>\n   <g id=\"patch_18\">\n    <path clip-path=\"url(#p01beef44a8)\" d=\"M 401.636866 230.183027 \nL 418.533256 230.183027 \nL 418.533256 182.658866 \nL 401.636866 182.658866 \nz\n\" style=\"fill:#d3d3d3;\"/>\n   </g>\n   <g id=\"patch_19\">\n    <path clip-path=\"url(#p01beef44a8)\" d=\"M 422.757354 230.183027 \nL 439.653744 230.183027 \nL 439.653744 197.361041 \nL 422.757354 197.361041 \nz\n\" style=\"fill:#d3d3d3;\"/>\n   </g>\n   <g id=\"patch_20\">\n    <path clip-path=\"url(#p01beef44a8)\" d=\"M 443.877841 230.183027 \nL 460.774232 230.183027 \nL 460.774232 202.903717 \nL 443.877841 202.903717 \nz\n\" style=\"fill:#d3d3d3;\"/>\n   </g>\n   <g id=\"patch_21\">\n    <path clip-path=\"url(#p01beef44a8)\" d=\"M 464.998329 230.183027 \nL 481.89472 230.183027 \nL 481.89472 187.870803 \nL 464.998329 187.870803 \nz\n\" style=\"fill:#d3d3d3;\"/>\n   </g>\n   <g id=\"patch_22\">\n    <path clip-path=\"url(#p01beef44a8)\" d=\"M 486.118817 230.183027 \nL 503.015207 230.183027 \nL 503.015207 156.749988 \nL 486.118817 156.749988 \nz\n\" style=\"fill:#d3d3d3;\"/>\n   </g>\n   <g id=\"patch_23\">\n    <path clip-path=\"url(#p01beef44a8)\" d=\"M 507.239305 230.183027 \nL 524.135695 230.183027 \nL 524.135695 134.67354 \nL 507.239305 134.67354 \nz\n\" style=\"fill:#d3d3d3;\"/>\n   </g>\n   <g id=\"patch_24\">\n    <path clip-path=\"url(#p01beef44a8)\" d=\"M 528.359793 230.183027 \nL 545.256183 230.183027 \nL 545.256183 123.946602 \nL 528.359793 123.946602 \nz\n\" style=\"fill:#d3d3d3;\"/>\n   </g>\n   <g id=\"patch_25\">\n    <path clip-path=\"url(#p01beef44a8)\" d=\"M 549.48028 230.183027 \nL 566.376671 230.183027 \nL 566.376671 117.441443 \nL 549.48028 117.441443 \nz\n\" style=\"fill:#d3d3d3;\"/>\n   </g>\n   <g id=\"patch_26\">\n    <path clip-path=\"url(#p01beef44a8)\" d=\"M 570.600768 230.183027 \nL 587.497159 230.183027 \nL 587.497159 117.995751 \nL 570.600768 117.995751 \nz\n\" style=\"fill:#d3d3d3;\"/>\n   </g>\n   <g id=\"patch_27\">\n    <path clip-path=\"url(#p01beef44a8)\" d=\"M 591.721256 230.183027 \nL 608.617646 230.183027 \nL 608.617646 112.407931 \nL 591.721256 112.407931 \nz\n\" style=\"fill:#d3d3d3;\"/>\n   </g>\n   <g id=\"patch_28\">\n    <path clip-path=\"url(#p01beef44a8)\" d=\"M 612.841744 230.183027 \nL 629.738134 230.183027 \nL 629.738134 109.31406 \nL 612.841744 109.31406 \nz\n\" style=\"fill:#d3d3d3;\"/>\n   </g>\n   <g id=\"patch_29\">\n    <path clip-path=\"url(#p01beef44a8)\" d=\"M 633.962232 230.183027 \nL 650.858622 230.183027 \nL 650.858622 100.146921 \nL 633.962232 100.146921 \nz\n\" style=\"fill:#d3d3d3;\"/>\n   </g>\n   <g id=\"patch_30\">\n    <path clip-path=\"url(#p01beef44a8)\" d=\"M 655.08272 230.183027 \nL 671.97911 230.183027 \nL 671.97911 94.688783 \nL 655.08272 94.688783 \nz\n\" style=\"fill:#d3d3d3;\"/>\n   </g>\n   <g id=\"patch_31\">\n    <path clip-path=\"url(#p01beef44a8)\" d=\"M 676.203207 230.183027 \nL 693.099598 230.183027 \nL 693.099598 67.177048 \nL 676.203207 67.177048 \nz\n\" style=\"fill:#d3d3d3;\"/>\n   </g>\n   <g id=\"patch_32\">\n    <path clip-path=\"url(#p01beef44a8)\" d=\"M 697.323695 230.183027 \nL 714.220085 230.183027 \nL 714.220085 41.945816 \nL 697.323695 41.945816 \nz\n\" style=\"fill:#d3d3d3;\"/>\n   </g>\n   <g id=\"patch_33\">\n    <path clip-path=\"url(#p01beef44a8)\" d=\"M 718.444183 230.183027 \nL 735.340573 230.183027 \nL 735.340573 33.582841 \nL 718.444183 33.582841 \nz\n\" style=\"fill:#d3d3d3;\"/>\n   </g>\n   <g id=\"patch_34\">\n    <path clip-path=\"url(#p01beef44a8)\" d=\"M 739.564671 230.183027 \nL 756.461061 230.183027 \nL 756.461061 53.487399 \nL 739.564671 53.487399 \nz\n\" style=\"fill:#d3d3d3;\"/>\n   </g>\n   <g id=\"patch_35\">\n    <path clip-path=\"url(#p01beef44a8)\" d=\"M 760.685159 230.183027 \nL 777.581549 230.183027 \nL 777.581549 81.42162 \nL 760.685159 81.42162 \nz\n\" style=\"fill:#d3d3d3;\"/>\n   </g>\n   <g id=\"patch_36\">\n    <path clip-path=\"url(#p01beef44a8)\" d=\"M 781.805646 230.183027 \nL 798.702037 230.183027 \nL 798.702037 100.353775 \nL 781.805646 100.353775 \nz\n\" style=\"fill:#d3d3d3;\"/>\n   </g>\n   <g id=\"patch_37\">\n    <path clip-path=\"url(#p01beef44a8)\" d=\"M 802.926134 230.183027 \nL 819.822524 230.183027 \nL 819.822524 108.654565 \nL 802.926134 108.654565 \nz\n\" style=\"fill:#d3d3d3;\"/>\n   </g>\n   <g id=\"patch_38\">\n    <path clip-path=\"url(#p01beef44a8)\" d=\"M 824.046622 230.183027 \nL 840.943012 230.183027 \nL 840.943012 96.373257 \nL 824.046622 96.373257 \nz\n\" style=\"fill:#d3d3d3;\"/>\n   </g>\n   <g id=\"patch_39\">\n    <path clip-path=\"url(#p01beef44a8)\" d=\"M 845.16711 230.183027 \nL 862.0635 230.183027 \nL 862.0635 86.977501 \nL 845.16711 86.977501 \nz\n\" style=\"fill:#d3d3d3;\"/>\n   </g>\n   <g id=\"patch_40\">\n    <path clip-path=\"url(#p01beef44a8)\" d=\"M 866.287598 230.183027 \nL 883.183988 230.183027 \nL 883.183988 74.611592 \nL 866.287598 74.611592 \nz\n\" style=\"fill:#d3d3d3;\"/>\n   </g>\n   <g id=\"patch_41\">\n    <path clip-path=\"url(#p01beef44a8)\" d=\"M 887.408085 230.183027 \nL 904.304476 230.183027 \nL 904.304476 75.494796 \nL 887.408085 75.494796 \nz\n\" style=\"fill:#d3d3d3;\"/>\n   </g>\n   <g id=\"patch_42\">\n    <path clip-path=\"url(#p01beef44a8)\" d=\"M 908.528573 230.183027 \nL 925.424963 230.183027 \nL 925.424963 69.684986 \nL 908.528573 69.684986 \nz\n\" style=\"fill:#d3d3d3;\"/>\n   </g>\n   <g id=\"patch_43\">\n    <path clip-path=\"url(#p01beef44a8)\" d=\"M 929.649061 230.183027 \nL 946.545451 230.183027 \nL 946.545451 87.113526 \nL 929.649061 87.113526 \nz\n\" style=\"fill:#d3d3d3;\"/>\n   </g>\n   <g id=\"matplotlib.axis_1\">\n    <g id=\"xtick_1\">\n     <g id=\"line2d_1\">\n      <defs>\n       <path d=\"M 0 0 \nL 0 3.5 \n\" id=\"m615132764a\" style=\"stroke:#000000;stroke-width:0.8;\"/>\n      </defs>\n      <g>\n       <use style=\"stroke:#000000;stroke-width:0.8;\" x=\"93.277744\" xlink:href=\"#m615132764a\" y=\"459.96875\"/>\n      </g>\n     </g>\n     <g id=\"text_1\">\n      <!-- JAN 2019 -->\n      <defs>\n       <path d=\"M 9.8125 72.90625 \nL 19.671875 72.90625 \nL 19.671875 5.078125 \nQ 19.671875 -8.109375 14.671875 -14.0625 \nQ 9.671875 -20.015625 -1.421875 -20.015625 \nL -5.171875 -20.015625 \nL -5.171875 -11.71875 \nL -2.09375 -11.71875 \nQ 4.4375 -11.71875 7.125 -8.046875 \nQ 9.8125 -4.390625 9.8125 5.078125 \nz\n\" id=\"DejaVuSans-74\"/>\n       <path d=\"M 34.1875 63.1875 \nL 20.796875 26.90625 \nL 47.609375 26.90625 \nz\nM 28.609375 72.90625 \nL 39.796875 72.90625 \nL 67.578125 0 \nL 57.328125 0 \nL 50.6875 18.703125 \nL 17.828125 18.703125 \nL 11.1875 0 \nL 0.78125 0 \nz\n\" id=\"DejaVuSans-65\"/>\n       <path d=\"M 9.8125 72.90625 \nL 23.09375 72.90625 \nL 55.421875 11.921875 \nL 55.421875 72.90625 \nL 64.984375 72.90625 \nL 64.984375 0 \nL 51.703125 0 \nL 19.390625 60.984375 \nL 19.390625 0 \nL 9.8125 0 \nz\n\" id=\"DejaVuSans-78\"/>\n       <path id=\"DejaVuSans-32\"/>\n       <path d=\"M 19.1875 8.296875 \nL 53.609375 8.296875 \nL 53.609375 0 \nL 7.328125 0 \nL 7.328125 8.296875 \nQ 12.9375 14.109375 22.625 23.890625 \nQ 32.328125 33.6875 34.8125 36.53125 \nQ 39.546875 41.84375 41.421875 45.53125 \nQ 43.3125 49.21875 43.3125 52.78125 \nQ 43.3125 58.59375 39.234375 62.25 \nQ 35.15625 65.921875 28.609375 65.921875 \nQ 23.96875 65.921875 18.8125 64.3125 \nQ 13.671875 62.703125 7.8125 59.421875 \nL 7.8125 69.390625 \nQ 13.765625 71.78125 18.9375 73 \nQ 24.125 74.21875 28.421875 74.21875 \nQ 39.75 74.21875 46.484375 68.546875 \nQ 53.21875 62.890625 53.21875 53.421875 \nQ 53.21875 48.921875 51.53125 44.890625 \nQ 49.859375 40.875 45.40625 35.40625 \nQ 44.1875 33.984375 37.640625 27.21875 \nQ 31.109375 20.453125 19.1875 8.296875 \nz\n\" id=\"DejaVuSans-50\"/>\n       <path d=\"M 31.78125 66.40625 \nQ 24.171875 66.40625 20.328125 58.90625 \nQ 16.5 51.421875 16.5 36.375 \nQ 16.5 21.390625 20.328125 13.890625 \nQ 24.171875 6.390625 31.78125 6.390625 \nQ 39.453125 6.390625 43.28125 13.890625 \nQ 47.125 21.390625 47.125 36.375 \nQ 47.125 51.421875 43.28125 58.90625 \nQ 39.453125 66.40625 31.78125 66.40625 \nz\nM 31.78125 74.21875 \nQ 44.046875 74.21875 50.515625 64.515625 \nQ 56.984375 54.828125 56.984375 36.375 \nQ 56.984375 17.96875 50.515625 8.265625 \nQ 44.046875 -1.421875 31.78125 -1.421875 \nQ 19.53125 -1.421875 13.0625 8.265625 \nQ 6.59375 17.96875 6.59375 36.375 \nQ 6.59375 54.828125 13.0625 64.515625 \nQ 19.53125 74.21875 31.78125 74.21875 \nz\n\" id=\"DejaVuSans-48\"/>\n       <path d=\"M 12.40625 8.296875 \nL 28.515625 8.296875 \nL 28.515625 63.921875 \nL 10.984375 60.40625 \nL 10.984375 69.390625 \nL 28.421875 72.90625 \nL 38.28125 72.90625 \nL 38.28125 8.296875 \nL 54.390625 8.296875 \nL 54.390625 0 \nL 12.40625 0 \nz\n\" id=\"DejaVuSans-49\"/>\n       <path d=\"M 10.984375 1.515625 \nL 10.984375 10.5 \nQ 14.703125 8.734375 18.5 7.8125 \nQ 22.3125 6.890625 25.984375 6.890625 \nQ 35.75 6.890625 40.890625 13.453125 \nQ 46.046875 20.015625 46.78125 33.40625 \nQ 43.953125 29.203125 39.59375 26.953125 \nQ 35.25 24.703125 29.984375 24.703125 \nQ 19.046875 24.703125 12.671875 31.3125 \nQ 6.296875 37.9375 6.296875 49.421875 \nQ 6.296875 60.640625 12.9375 67.421875 \nQ 19.578125 74.21875 30.609375 74.21875 \nQ 43.265625 74.21875 49.921875 64.515625 \nQ 56.59375 54.828125 56.59375 36.375 \nQ 56.59375 19.140625 48.40625 8.859375 \nQ 40.234375 -1.421875 26.421875 -1.421875 \nQ 22.703125 -1.421875 18.890625 -0.6875 \nQ 15.09375 0.046875 10.984375 1.515625 \nz\nM 30.609375 32.421875 \nQ 37.25 32.421875 41.125 36.953125 \nQ 45.015625 41.5 45.015625 49.421875 \nQ 45.015625 57.28125 41.125 61.84375 \nQ 37.25 66.40625 30.609375 66.40625 \nQ 23.96875 66.40625 20.09375 61.84375 \nQ 16.21875 57.28125 16.21875 49.421875 \nQ 16.21875 41.5 20.09375 36.953125 \nQ 23.96875 32.421875 30.609375 32.421875 \nz\n\" id=\"DejaVuSans-57\"/>\n      </defs>\n      <g transform=\"translate(97.692744 540.12875)rotate(-90)scale(0.16 -0.16)\">\n       <use xlink:href=\"#DejaVuSans-74\"/>\n       <use x=\"27.742188\" xlink:href=\"#DejaVuSans-65\"/>\n       <use x=\"96.150391\" xlink:href=\"#DejaVuSans-78\"/>\n       <use x=\"170.955078\" xlink:href=\"#DejaVuSans-32\"/>\n       <use x=\"202.742188\" xlink:href=\"#DejaVuSans-50\"/>\n       <use x=\"266.365234\" xlink:href=\"#DejaVuSans-48\"/>\n       <use x=\"329.988281\" xlink:href=\"#DejaVuSans-49\"/>\n       <use x=\"393.611328\" xlink:href=\"#DejaVuSans-57\"/>\n      </g>\n     </g>\n    </g>\n    <g id=\"xtick_2\">\n     <g id=\"line2d_2\">\n      <g>\n       <use style=\"stroke:#000000;stroke-width:0.8;\" x=\"114.398232\" xlink:href=\"#m615132764a\" y=\"459.96875\"/>\n      </g>\n     </g>\n     <g id=\"text_2\">\n      <!-- FEB 2019 -->\n      <defs>\n       <path d=\"M 9.8125 72.90625 \nL 51.703125 72.90625 \nL 51.703125 64.59375 \nL 19.671875 64.59375 \nL 19.671875 43.109375 \nL 48.578125 43.109375 \nL 48.578125 34.8125 \nL 19.671875 34.8125 \nL 19.671875 0 \nL 9.8125 0 \nz\n\" id=\"DejaVuSans-70\"/>\n       <path d=\"M 9.8125 72.90625 \nL 55.90625 72.90625 \nL 55.90625 64.59375 \nL 19.671875 64.59375 \nL 19.671875 43.015625 \nL 54.390625 43.015625 \nL 54.390625 34.71875 \nL 19.671875 34.71875 \nL 19.671875 8.296875 \nL 56.78125 8.296875 \nL 56.78125 0 \nL 9.8125 0 \nz\n\" id=\"DejaVuSans-69\"/>\n       <path d=\"M 19.671875 34.8125 \nL 19.671875 8.109375 \nL 35.5 8.109375 \nQ 43.453125 8.109375 47.28125 11.40625 \nQ 51.125 14.703125 51.125 21.484375 \nQ 51.125 28.328125 47.28125 31.5625 \nQ 43.453125 34.8125 35.5 34.8125 \nz\nM 19.671875 64.796875 \nL 19.671875 42.828125 \nL 34.28125 42.828125 \nQ 41.5 42.828125 45.03125 45.53125 \nQ 48.578125 48.25 48.578125 53.8125 \nQ 48.578125 59.328125 45.03125 62.0625 \nQ 41.5 64.796875 34.28125 64.796875 \nz\nM 9.8125 72.90625 \nL 35.015625 72.90625 \nQ 46.296875 72.90625 52.390625 68.21875 \nQ 58.5 63.53125 58.5 54.890625 \nQ 58.5 48.1875 55.375 44.234375 \nQ 52.25 40.28125 46.1875 39.3125 \nQ 53.46875 37.75 57.5 32.78125 \nQ 61.53125 27.828125 61.53125 20.40625 \nQ 61.53125 10.640625 54.890625 5.3125 \nQ 48.25 0 35.984375 0 \nL 9.8125 0 \nz\n\" id=\"DejaVuSans-66\"/>\n      </defs>\n      <g transform=\"translate(118.813232 543.06375)rotate(-90)scale(0.16 -0.16)\">\n       <use xlink:href=\"#DejaVuSans-70\"/>\n       <use x=\"57.519531\" xlink:href=\"#DejaVuSans-69\"/>\n       <use x=\"120.703125\" xlink:href=\"#DejaVuSans-66\"/>\n       <use x=\"189.306641\" xlink:href=\"#DejaVuSans-32\"/>\n       <use x=\"221.09375\" xlink:href=\"#DejaVuSans-50\"/>\n       <use x=\"284.716797\" xlink:href=\"#DejaVuSans-48\"/>\n       <use x=\"348.339844\" xlink:href=\"#DejaVuSans-49\"/>\n       <use x=\"411.962891\" xlink:href=\"#DejaVuSans-57\"/>\n      </g>\n     </g>\n    </g>\n    <g id=\"xtick_3\">\n     <g id=\"line2d_3\">\n      <g>\n       <use style=\"stroke:#000000;stroke-width:0.8;\" x=\"135.51872\" xlink:href=\"#m615132764a\" y=\"459.96875\"/>\n      </g>\n     </g>\n     <g id=\"text_3\">\n      <!-- MAR 2019 -->\n      <defs>\n       <path d=\"M 9.8125 72.90625 \nL 24.515625 72.90625 \nL 43.109375 23.296875 \nL 61.8125 72.90625 \nL 76.515625 72.90625 \nL 76.515625 0 \nL 66.890625 0 \nL 66.890625 64.015625 \nL 48.09375 14.015625 \nL 38.1875 14.015625 \nL 19.390625 64.015625 \nL 19.390625 0 \nL 9.8125 0 \nz\n\" id=\"DejaVuSans-77\"/>\n       <path d=\"M 44.390625 34.1875 \nQ 47.5625 33.109375 50.5625 29.59375 \nQ 53.5625 26.078125 56.59375 19.921875 \nL 66.609375 0 \nL 56 0 \nL 46.6875 18.703125 \nQ 43.0625 26.03125 39.671875 28.421875 \nQ 36.28125 30.8125 30.421875 30.8125 \nL 19.671875 30.8125 \nL 19.671875 0 \nL 9.8125 0 \nL 9.8125 72.90625 \nL 32.078125 72.90625 \nQ 44.578125 72.90625 50.734375 67.671875 \nQ 56.890625 62.453125 56.890625 51.90625 \nQ 56.890625 45.015625 53.6875 40.46875 \nQ 50.484375 35.9375 44.390625 34.1875 \nz\nM 19.671875 64.796875 \nL 19.671875 38.921875 \nL 32.078125 38.921875 \nQ 39.203125 38.921875 42.84375 42.21875 \nQ 46.484375 45.515625 46.484375 51.90625 \nQ 46.484375 58.296875 42.84375 61.546875 \nQ 39.203125 64.796875 32.078125 64.796875 \nz\n\" id=\"DejaVuSans-82\"/>\n      </defs>\n      <g transform=\"translate(139.93372 548.64125)rotate(-90)scale(0.16 -0.16)\">\n       <use xlink:href=\"#DejaVuSans-77\"/>\n       <use x=\"86.279297\" xlink:href=\"#DejaVuSans-65\"/>\n       <use x=\"154.6875\" xlink:href=\"#DejaVuSans-82\"/>\n       <use x=\"224.169922\" xlink:href=\"#DejaVuSans-32\"/>\n       <use x=\"255.957031\" xlink:href=\"#DejaVuSans-50\"/>\n       <use x=\"319.580078\" xlink:href=\"#DejaVuSans-48\"/>\n       <use x=\"383.203125\" xlink:href=\"#DejaVuSans-49\"/>\n       <use x=\"446.826172\" xlink:href=\"#DejaVuSans-57\"/>\n      </g>\n     </g>\n    </g>\n    <g id=\"xtick_4\">\n     <g id=\"line2d_4\">\n      <g>\n       <use style=\"stroke:#000000;stroke-width:0.8;\" x=\"156.639207\" xlink:href=\"#m615132764a\" y=\"459.96875\"/>\n      </g>\n     </g>\n     <g id=\"text_4\">\n      <!-- APR 2019 -->\n      <defs>\n       <path d=\"M 19.671875 64.796875 \nL 19.671875 37.40625 \nL 32.078125 37.40625 \nQ 38.96875 37.40625 42.71875 40.96875 \nQ 46.484375 44.53125 46.484375 51.125 \nQ 46.484375 57.671875 42.71875 61.234375 \nQ 38.96875 64.796875 32.078125 64.796875 \nz\nM 9.8125 72.90625 \nL 32.078125 72.90625 \nQ 44.34375 72.90625 50.609375 67.359375 \nQ 56.890625 61.8125 56.890625 51.125 \nQ 56.890625 40.328125 50.609375 34.8125 \nQ 44.34375 29.296875 32.078125 29.296875 \nL 19.671875 29.296875 \nL 19.671875 0 \nL 9.8125 0 \nz\n\" id=\"DejaVuSans-80\"/>\n      </defs>\n      <g transform=\"translate(161.054207 544.48375)rotate(-90)scale(0.16 -0.16)\">\n       <use xlink:href=\"#DejaVuSans-65\"/>\n       <use x=\"68.408203\" xlink:href=\"#DejaVuSans-80\"/>\n       <use x=\"128.710938\" xlink:href=\"#DejaVuSans-82\"/>\n       <use x=\"198.193359\" xlink:href=\"#DejaVuSans-32\"/>\n       <use x=\"229.980469\" xlink:href=\"#DejaVuSans-50\"/>\n       <use x=\"293.603516\" xlink:href=\"#DejaVuSans-48\"/>\n       <use x=\"357.226562\" xlink:href=\"#DejaVuSans-49\"/>\n       <use x=\"420.849609\" xlink:href=\"#DejaVuSans-57\"/>\n      </g>\n     </g>\n    </g>\n    <g id=\"xtick_5\">\n     <g id=\"line2d_5\">\n      <g>\n       <use style=\"stroke:#000000;stroke-width:0.8;\" x=\"177.759695\" xlink:href=\"#m615132764a\" y=\"459.96875\"/>\n      </g>\n     </g>\n     <g id=\"text_5\">\n      <!-- MAY 2019 -->\n      <defs>\n       <path d=\"M -0.203125 72.90625 \nL 10.40625 72.90625 \nL 30.609375 42.921875 \nL 50.6875 72.90625 \nL 61.28125 72.90625 \nL 35.5 34.71875 \nL 35.5 0 \nL 25.59375 0 \nL 25.59375 34.71875 \nz\n\" id=\"DejaVuSans-89\"/>\n      </defs>\n      <g transform=\"translate(182.174695 546.05625)rotate(-90)scale(0.16 -0.16)\">\n       <use xlink:href=\"#DejaVuSans-77\"/>\n       <use x=\"86.279297\" xlink:href=\"#DejaVuSans-65\"/>\n       <use x=\"146.9375\" xlink:href=\"#DejaVuSans-89\"/>\n       <use x=\"208.021484\" xlink:href=\"#DejaVuSans-32\"/>\n       <use x=\"239.808594\" xlink:href=\"#DejaVuSans-50\"/>\n       <use x=\"303.431641\" xlink:href=\"#DejaVuSans-48\"/>\n       <use x=\"367.054688\" xlink:href=\"#DejaVuSans-49\"/>\n       <use x=\"430.677734\" xlink:href=\"#DejaVuSans-57\"/>\n      </g>\n     </g>\n    </g>\n    <g id=\"xtick_6\">\n     <g id=\"line2d_6\">\n      <g>\n       <use style=\"stroke:#000000;stroke-width:0.8;\" x=\"198.880183\" xlink:href=\"#m615132764a\" y=\"459.96875\"/>\n      </g>\n     </g>\n     <g id=\"text_6\">\n      <!-- JUN 2019 -->\n      <defs>\n       <path d=\"M 8.6875 72.90625 \nL 18.609375 72.90625 \nL 18.609375 28.609375 \nQ 18.609375 16.890625 22.84375 11.734375 \nQ 27.09375 6.59375 36.625 6.59375 \nQ 46.09375 6.59375 50.34375 11.734375 \nQ 54.59375 16.890625 54.59375 28.609375 \nL 54.59375 72.90625 \nL 64.5 72.90625 \nL 64.5 27.390625 \nQ 64.5 13.140625 57.4375 5.859375 \nQ 50.390625 -1.421875 36.625 -1.421875 \nQ 22.796875 -1.421875 15.734375 5.859375 \nQ 8.6875 13.140625 8.6875 27.390625 \nz\n\" id=\"DejaVuSans-85\"/>\n      </defs>\n      <g transform=\"translate(203.295183 541.17375)rotate(-90)scale(0.16 -0.16)\">\n       <use xlink:href=\"#DejaVuSans-74\"/>\n       <use x=\"29.492188\" xlink:href=\"#DejaVuSans-85\"/>\n       <use x=\"102.685547\" xlink:href=\"#DejaVuSans-78\"/>\n       <use x=\"177.490234\" xlink:href=\"#DejaVuSans-32\"/>\n       <use x=\"209.277344\" xlink:href=\"#DejaVuSans-50\"/>\n       <use x=\"272.900391\" xlink:href=\"#DejaVuSans-48\"/>\n       <use x=\"336.523438\" xlink:href=\"#DejaVuSans-49\"/>\n       <use x=\"400.146484\" xlink:href=\"#DejaVuSans-57\"/>\n      </g>\n     </g>\n    </g>\n    <g id=\"xtick_7\">\n     <g id=\"line2d_7\">\n      <g>\n       <use style=\"stroke:#000000;stroke-width:0.8;\" x=\"220.000671\" xlink:href=\"#m615132764a\" y=\"459.96875\"/>\n      </g>\n     </g>\n     <g id=\"text_7\">\n      <!-- JUL 2019 -->\n      <defs>\n       <path d=\"M 9.8125 72.90625 \nL 19.671875 72.90625 \nL 19.671875 8.296875 \nL 55.171875 8.296875 \nL 55.171875 0 \nL 9.8125 0 \nz\n\" id=\"DejaVuSans-76\"/>\n      </defs>\n      <g transform=\"translate(224.415671 538.11875)rotate(-90)scale(0.16 -0.16)\">\n       <use xlink:href=\"#DejaVuSans-74\"/>\n       <use x=\"29.492188\" xlink:href=\"#DejaVuSans-85\"/>\n       <use x=\"102.685547\" xlink:href=\"#DejaVuSans-76\"/>\n       <use x=\"158.398438\" xlink:href=\"#DejaVuSans-32\"/>\n       <use x=\"190.185547\" xlink:href=\"#DejaVuSans-50\"/>\n       <use x=\"253.808594\" xlink:href=\"#DejaVuSans-48\"/>\n       <use x=\"317.431641\" xlink:href=\"#DejaVuSans-49\"/>\n       <use x=\"381.054688\" xlink:href=\"#DejaVuSans-57\"/>\n      </g>\n     </g>\n    </g>\n    <g id=\"xtick_8\">\n     <g id=\"line2d_8\">\n      <g>\n       <use style=\"stroke:#000000;stroke-width:0.8;\" x=\"241.121159\" xlink:href=\"#m615132764a\" y=\"459.96875\"/>\n      </g>\n     </g>\n     <g id=\"text_8\">\n      <!-- AUG 2019 -->\n      <defs>\n       <path d=\"M 59.515625 10.40625 \nL 59.515625 29.984375 \nL 43.40625 29.984375 \nL 43.40625 38.09375 \nL 69.28125 38.09375 \nL 69.28125 6.78125 \nQ 63.578125 2.734375 56.6875 0.65625 \nQ 49.8125 -1.421875 42 -1.421875 \nQ 24.90625 -1.421875 15.25 8.5625 \nQ 5.609375 18.5625 5.609375 36.375 \nQ 5.609375 54.25 15.25 64.234375 \nQ 24.90625 74.21875 42 74.21875 \nQ 49.125 74.21875 55.546875 72.453125 \nQ 61.96875 70.703125 67.390625 67.28125 \nL 67.390625 56.78125 \nQ 61.921875 61.421875 55.765625 63.765625 \nQ 49.609375 66.109375 42.828125 66.109375 \nQ 29.4375 66.109375 22.71875 58.640625 \nQ 16.015625 51.171875 16.015625 36.375 \nQ 16.015625 21.625 22.71875 14.15625 \nQ 29.4375 6.6875 42.828125 6.6875 \nQ 48.046875 6.6875 52.140625 7.59375 \nQ 56.25 8.5 59.515625 10.40625 \nz\n\" id=\"DejaVuSans-71\"/>\n      </defs>\n      <g transform=\"translate(245.536159 547.82625)rotate(-90)scale(0.16 -0.16)\">\n       <use xlink:href=\"#DejaVuSans-65\"/>\n       <use x=\"68.408203\" xlink:href=\"#DejaVuSans-85\"/>\n       <use x=\"141.601562\" xlink:href=\"#DejaVuSans-71\"/>\n       <use x=\"219.091797\" xlink:href=\"#DejaVuSans-32\"/>\n       <use x=\"250.878906\" xlink:href=\"#DejaVuSans-50\"/>\n       <use x=\"314.501953\" xlink:href=\"#DejaVuSans-48\"/>\n       <use x=\"378.125\" xlink:href=\"#DejaVuSans-49\"/>\n       <use x=\"441.748047\" xlink:href=\"#DejaVuSans-57\"/>\n      </g>\n     </g>\n    </g>\n    <g id=\"xtick_9\">\n     <g id=\"line2d_9\">\n      <g>\n       <use style=\"stroke:#000000;stroke-width:0.8;\" x=\"262.241646\" xlink:href=\"#m615132764a\" y=\"459.96875\"/>\n      </g>\n     </g>\n     <g id=\"text_9\">\n      <!-- SEP 2019 -->\n      <defs>\n       <path d=\"M 53.515625 70.515625 \nL 53.515625 60.890625 \nQ 47.90625 63.578125 42.921875 64.890625 \nQ 37.9375 66.21875 33.296875 66.21875 \nQ 25.25 66.21875 20.875 63.09375 \nQ 16.5 59.96875 16.5 54.203125 \nQ 16.5 49.359375 19.40625 46.890625 \nQ 22.3125 44.4375 30.421875 42.921875 \nL 36.375 41.703125 \nQ 47.40625 39.59375 52.65625 34.296875 \nQ 57.90625 29 57.90625 20.125 \nQ 57.90625 9.515625 50.796875 4.046875 \nQ 43.703125 -1.421875 29.984375 -1.421875 \nQ 24.8125 -1.421875 18.96875 -0.25 \nQ 13.140625 0.921875 6.890625 3.21875 \nL 6.890625 13.375 \nQ 12.890625 10.015625 18.65625 8.296875 \nQ 24.421875 6.59375 29.984375 6.59375 \nQ 38.421875 6.59375 43.015625 9.90625 \nQ 47.609375 13.234375 47.609375 19.390625 \nQ 47.609375 24.75 44.3125 27.78125 \nQ 41.015625 30.8125 33.5 32.328125 \nL 27.484375 33.5 \nQ 16.453125 35.6875 11.515625 40.375 \nQ 6.59375 45.0625 6.59375 53.421875 \nQ 6.59375 63.09375 13.40625 68.65625 \nQ 20.21875 74.21875 32.171875 74.21875 \nQ 37.3125 74.21875 42.625 73.28125 \nQ 47.953125 72.359375 53.515625 70.515625 \nz\n\" id=\"DejaVuSans-83\"/>\n      </defs>\n      <g transform=\"translate(266.656646 542.68875)rotate(-90)scale(0.16 -0.16)\">\n       <use xlink:href=\"#DejaVuSans-83\"/>\n       <use x=\"63.476562\" xlink:href=\"#DejaVuSans-69\"/>\n       <use x=\"126.660156\" xlink:href=\"#DejaVuSans-80\"/>\n       <use x=\"186.962891\" xlink:href=\"#DejaVuSans-32\"/>\n       <use x=\"218.75\" xlink:href=\"#DejaVuSans-50\"/>\n       <use x=\"282.373047\" xlink:href=\"#DejaVuSans-48\"/>\n       <use x=\"345.996094\" xlink:href=\"#DejaVuSans-49\"/>\n       <use x=\"409.619141\" xlink:href=\"#DejaVuSans-57\"/>\n      </g>\n     </g>\n    </g>\n    <g id=\"xtick_10\">\n     <g id=\"line2d_10\">\n      <g>\n       <use style=\"stroke:#000000;stroke-width:0.8;\" x=\"283.362134\" xlink:href=\"#m615132764a\" y=\"459.96875\"/>\n      </g>\n     </g>\n     <g id=\"text_10\">\n      <!-- OCT 2019 -->\n      <defs>\n       <path d=\"M 39.40625 66.21875 \nQ 28.65625 66.21875 22.328125 58.203125 \nQ 16.015625 50.203125 16.015625 36.375 \nQ 16.015625 22.609375 22.328125 14.59375 \nQ 28.65625 6.59375 39.40625 6.59375 \nQ 50.140625 6.59375 56.421875 14.59375 \nQ 62.703125 22.609375 62.703125 36.375 \nQ 62.703125 50.203125 56.421875 58.203125 \nQ 50.140625 66.21875 39.40625 66.21875 \nz\nM 39.40625 74.21875 \nQ 54.734375 74.21875 63.90625 63.9375 \nQ 73.09375 53.65625 73.09375 36.375 \nQ 73.09375 19.140625 63.90625 8.859375 \nQ 54.734375 -1.421875 39.40625 -1.421875 \nQ 24.03125 -1.421875 14.8125 8.828125 \nQ 5.609375 19.09375 5.609375 36.375 \nQ 5.609375 53.65625 14.8125 63.9375 \nQ 24.03125 74.21875 39.40625 74.21875 \nz\n\" id=\"DejaVuSans-79\"/>\n       <path d=\"M 64.40625 67.28125 \nL 64.40625 56.890625 \nQ 59.421875 61.53125 53.78125 63.8125 \nQ 48.140625 66.109375 41.796875 66.109375 \nQ 29.296875 66.109375 22.65625 58.46875 \nQ 16.015625 50.828125 16.015625 36.375 \nQ 16.015625 21.96875 22.65625 14.328125 \nQ 29.296875 6.6875 41.796875 6.6875 \nQ 48.140625 6.6875 53.78125 8.984375 \nQ 59.421875 11.28125 64.40625 15.921875 \nL 64.40625 5.609375 \nQ 59.234375 2.09375 53.4375 0.328125 \nQ 47.65625 -1.421875 41.21875 -1.421875 \nQ 24.65625 -1.421875 15.125 8.703125 \nQ 5.609375 18.84375 5.609375 36.375 \nQ 5.609375 53.953125 15.125 64.078125 \nQ 24.65625 74.21875 41.21875 74.21875 \nQ 47.75 74.21875 53.53125 72.484375 \nQ 59.328125 70.75 64.40625 67.28125 \nz\n\" id=\"DejaVuSans-67\"/>\n       <path d=\"M -0.296875 72.90625 \nL 61.375 72.90625 \nL 61.375 64.59375 \nL 35.5 64.59375 \nL 35.5 0 \nL 25.59375 0 \nL 25.59375 64.59375 \nL -0.296875 64.59375 \nz\n\" id=\"DejaVuSans-84\"/>\n      </defs>\n      <g transform=\"translate(287.777134 546.31375)rotate(-90)scale(0.16 -0.16)\">\n       <use xlink:href=\"#DejaVuSans-79\"/>\n       <use x=\"78.710938\" xlink:href=\"#DejaVuSans-67\"/>\n       <use x=\"148.535156\" xlink:href=\"#DejaVuSans-84\"/>\n       <use x=\"209.619141\" xlink:href=\"#DejaVuSans-32\"/>\n       <use x=\"241.40625\" xlink:href=\"#DejaVuSans-50\"/>\n       <use x=\"305.029297\" xlink:href=\"#DejaVuSans-48\"/>\n       <use x=\"368.652344\" xlink:href=\"#DejaVuSans-49\"/>\n       <use x=\"432.275391\" xlink:href=\"#DejaVuSans-57\"/>\n      </g>\n     </g>\n    </g>\n    <g id=\"xtick_11\">\n     <g id=\"line2d_11\">\n      <g>\n       <use style=\"stroke:#000000;stroke-width:0.8;\" x=\"304.482622\" xlink:href=\"#m615132764a\" y=\"459.96875\"/>\n      </g>\n     </g>\n     <g id=\"text_11\">\n      <!-- NOV 2019 -->\n      <defs>\n       <path d=\"M 28.609375 0 \nL 0.78125 72.90625 \nL 11.078125 72.90625 \nL 34.1875 11.53125 \nL 57.328125 72.90625 \nL 67.578125 72.90625 \nL 39.796875 0 \nz\n\" id=\"DejaVuSans-86\"/>\n      </defs>\n      <g transform=\"translate(308.897622 548.00375)rotate(-90)scale(0.16 -0.16)\">\n       <use xlink:href=\"#DejaVuSans-78\"/>\n       <use x=\"74.804688\" xlink:href=\"#DejaVuSans-79\"/>\n       <use x=\"151.765625\" xlink:href=\"#DejaVuSans-86\"/>\n       <use x=\"220.173828\" xlink:href=\"#DejaVuSans-32\"/>\n       <use x=\"251.960938\" xlink:href=\"#DejaVuSans-50\"/>\n       <use x=\"315.583984\" xlink:href=\"#DejaVuSans-48\"/>\n       <use x=\"379.207031\" xlink:href=\"#DejaVuSans-49\"/>\n       <use x=\"442.830078\" xlink:href=\"#DejaVuSans-57\"/>\n      </g>\n     </g>\n    </g>\n    <g id=\"xtick_12\">\n     <g id=\"line2d_12\">\n      <g>\n       <use style=\"stroke:#000000;stroke-width:0.8;\" x=\"325.60311\" xlink:href=\"#m615132764a\" y=\"459.96875\"/>\n      </g>\n     </g>\n     <g id=\"text_12\">\n      <!-- DEC 2019 -->\n      <defs>\n       <path d=\"M 19.671875 64.796875 \nL 19.671875 8.109375 \nL 31.59375 8.109375 \nQ 46.6875 8.109375 53.6875 14.9375 \nQ 60.6875 21.78125 60.6875 36.53125 \nQ 60.6875 51.171875 53.6875 57.984375 \nQ 46.6875 64.796875 31.59375 64.796875 \nz\nM 9.8125 72.90625 \nL 30.078125 72.90625 \nQ 51.265625 72.90625 61.171875 64.09375 \nQ 71.09375 55.28125 71.09375 36.53125 \nQ 71.09375 17.671875 61.125 8.828125 \nQ 51.171875 0 30.078125 0 \nL 9.8125 0 \nz\n\" id=\"DejaVuSans-68\"/>\n      </defs>\n      <g transform=\"translate(330.01811 546.37625)rotate(-90)scale(0.16 -0.16)\">\n       <use xlink:href=\"#DejaVuSans-68\"/>\n       <use x=\"77.001953\" xlink:href=\"#DejaVuSans-69\"/>\n       <use x=\"140.185547\" xlink:href=\"#DejaVuSans-67\"/>\n       <use x=\"210.009766\" xlink:href=\"#DejaVuSans-32\"/>\n       <use x=\"241.796875\" xlink:href=\"#DejaVuSans-50\"/>\n       <use x=\"305.419922\" xlink:href=\"#DejaVuSans-48\"/>\n       <use x=\"369.042969\" xlink:href=\"#DejaVuSans-49\"/>\n       <use x=\"432.666016\" xlink:href=\"#DejaVuSans-57\"/>\n      </g>\n     </g>\n    </g>\n    <g id=\"xtick_13\">\n     <g id=\"line2d_13\">\n      <g>\n       <use style=\"stroke:#000000;stroke-width:0.8;\" x=\"346.723598\" xlink:href=\"#m615132764a\" y=\"459.96875\"/>\n      </g>\n     </g>\n     <g id=\"text_13\">\n      <!-- JAN 2020 -->\n      <g transform=\"translate(351.138598 540.12875)rotate(-90)scale(0.16 -0.16)\">\n       <use xlink:href=\"#DejaVuSans-74\"/>\n       <use x=\"27.742188\" xlink:href=\"#DejaVuSans-65\"/>\n       <use x=\"96.150391\" xlink:href=\"#DejaVuSans-78\"/>\n       <use x=\"170.955078\" xlink:href=\"#DejaVuSans-32\"/>\n       <use x=\"202.742188\" xlink:href=\"#DejaVuSans-50\"/>\n       <use x=\"266.365234\" xlink:href=\"#DejaVuSans-48\"/>\n       <use x=\"329.988281\" xlink:href=\"#DejaVuSans-50\"/>\n       <use x=\"393.611328\" xlink:href=\"#DejaVuSans-48\"/>\n      </g>\n     </g>\n    </g>\n    <g id=\"xtick_14\">\n     <g id=\"line2d_14\">\n      <g>\n       <use style=\"stroke:#000000;stroke-width:0.8;\" x=\"367.844085\" xlink:href=\"#m615132764a\" y=\"459.96875\"/>\n      </g>\n     </g>\n     <g id=\"text_14\">\n      <!-- FEB 2020 -->\n      <g transform=\"translate(372.259085 543.06375)rotate(-90)scale(0.16 -0.16)\">\n       <use xlink:href=\"#DejaVuSans-70\"/>\n       <use x=\"57.519531\" xlink:href=\"#DejaVuSans-69\"/>\n       <use x=\"120.703125\" xlink:href=\"#DejaVuSans-66\"/>\n       <use x=\"189.306641\" xlink:href=\"#DejaVuSans-32\"/>\n       <use x=\"221.09375\" xlink:href=\"#DejaVuSans-50\"/>\n       <use x=\"284.716797\" xlink:href=\"#DejaVuSans-48\"/>\n       <use x=\"348.339844\" xlink:href=\"#DejaVuSans-50\"/>\n       <use x=\"411.962891\" xlink:href=\"#DejaVuSans-48\"/>\n      </g>\n     </g>\n    </g>\n    <g id=\"xtick_15\">\n     <g id=\"line2d_15\">\n      <g>\n       <use style=\"stroke:#000000;stroke-width:0.8;\" x=\"388.964573\" xlink:href=\"#m615132764a\" y=\"459.96875\"/>\n      </g>\n     </g>\n     <g id=\"text_15\">\n      <!-- MAR 2020 -->\n      <g transform=\"translate(393.379573 548.64125)rotate(-90)scale(0.16 -0.16)\">\n       <use xlink:href=\"#DejaVuSans-77\"/>\n       <use x=\"86.279297\" xlink:href=\"#DejaVuSans-65\"/>\n       <use x=\"154.6875\" xlink:href=\"#DejaVuSans-82\"/>\n       <use x=\"224.169922\" xlink:href=\"#DejaVuSans-32\"/>\n       <use x=\"255.957031\" xlink:href=\"#DejaVuSans-50\"/>\n       <use x=\"319.580078\" xlink:href=\"#DejaVuSans-48\"/>\n       <use x=\"383.203125\" xlink:href=\"#DejaVuSans-50\"/>\n       <use x=\"446.826172\" xlink:href=\"#DejaVuSans-48\"/>\n      </g>\n     </g>\n    </g>\n    <g id=\"xtick_16\">\n     <g id=\"line2d_16\">\n      <g>\n       <use style=\"stroke:#000000;stroke-width:0.8;\" x=\"410.085061\" xlink:href=\"#m615132764a\" y=\"459.96875\"/>\n      </g>\n     </g>\n     <g id=\"text_16\">\n      <!-- APR 2020 -->\n      <g transform=\"translate(414.500061 544.48375)rotate(-90)scale(0.16 -0.16)\">\n       <use xlink:href=\"#DejaVuSans-65\"/>\n       <use x=\"68.408203\" xlink:href=\"#DejaVuSans-80\"/>\n       <use x=\"128.710938\" xlink:href=\"#DejaVuSans-82\"/>\n       <use x=\"198.193359\" xlink:href=\"#DejaVuSans-32\"/>\n       <use x=\"229.980469\" xlink:href=\"#DejaVuSans-50\"/>\n       <use x=\"293.603516\" xlink:href=\"#DejaVuSans-48\"/>\n       <use x=\"357.226562\" xlink:href=\"#DejaVuSans-50\"/>\n       <use x=\"420.849609\" xlink:href=\"#DejaVuSans-48\"/>\n      </g>\n     </g>\n    </g>\n    <g id=\"xtick_17\">\n     <g id=\"line2d_17\">\n      <g>\n       <use style=\"stroke:#000000;stroke-width:0.8;\" x=\"431.205549\" xlink:href=\"#m615132764a\" y=\"459.96875\"/>\n      </g>\n     </g>\n     <g id=\"text_17\">\n      <!-- MAY 2020 -->\n      <g transform=\"translate(435.620549 546.05625)rotate(-90)scale(0.16 -0.16)\">\n       <use xlink:href=\"#DejaVuSans-77\"/>\n       <use x=\"86.279297\" xlink:href=\"#DejaVuSans-65\"/>\n       <use x=\"146.9375\" xlink:href=\"#DejaVuSans-89\"/>\n       <use x=\"208.021484\" xlink:href=\"#DejaVuSans-32\"/>\n       <use x=\"239.808594\" xlink:href=\"#DejaVuSans-50\"/>\n       <use x=\"303.431641\" xlink:href=\"#DejaVuSans-48\"/>\n       <use x=\"367.054688\" xlink:href=\"#DejaVuSans-50\"/>\n       <use x=\"430.677734\" xlink:href=\"#DejaVuSans-48\"/>\n      </g>\n     </g>\n    </g>\n    <g id=\"xtick_18\">\n     <g id=\"line2d_18\">\n      <g>\n       <use style=\"stroke:#000000;stroke-width:0.8;\" x=\"452.326037\" xlink:href=\"#m615132764a\" y=\"459.96875\"/>\n      </g>\n     </g>\n     <g id=\"text_18\">\n      <!-- JUN 2020 -->\n      <g transform=\"translate(456.741037 541.17375)rotate(-90)scale(0.16 -0.16)\">\n       <use xlink:href=\"#DejaVuSans-74\"/>\n       <use x=\"29.492188\" xlink:href=\"#DejaVuSans-85\"/>\n       <use x=\"102.685547\" xlink:href=\"#DejaVuSans-78\"/>\n       <use x=\"177.490234\" xlink:href=\"#DejaVuSans-32\"/>\n       <use x=\"209.277344\" xlink:href=\"#DejaVuSans-50\"/>\n       <use x=\"272.900391\" xlink:href=\"#DejaVuSans-48\"/>\n       <use x=\"336.523438\" xlink:href=\"#DejaVuSans-50\"/>\n       <use x=\"400.146484\" xlink:href=\"#DejaVuSans-48\"/>\n      </g>\n     </g>\n    </g>\n    <g id=\"xtick_19\">\n     <g id=\"line2d_19\">\n      <g>\n       <use style=\"stroke:#000000;stroke-width:0.8;\" x=\"473.446524\" xlink:href=\"#m615132764a\" y=\"459.96875\"/>\n      </g>\n     </g>\n     <g id=\"text_19\">\n      <!-- JUL 2020 -->\n      <g transform=\"translate(477.861524 538.11875)rotate(-90)scale(0.16 -0.16)\">\n       <use xlink:href=\"#DejaVuSans-74\"/>\n       <use x=\"29.492188\" xlink:href=\"#DejaVuSans-85\"/>\n       <use x=\"102.685547\" xlink:href=\"#DejaVuSans-76\"/>\n       <use x=\"158.398438\" xlink:href=\"#DejaVuSans-32\"/>\n       <use x=\"190.185547\" xlink:href=\"#DejaVuSans-50\"/>\n       <use x=\"253.808594\" xlink:href=\"#DejaVuSans-48\"/>\n       <use x=\"317.431641\" xlink:href=\"#DejaVuSans-50\"/>\n       <use x=\"381.054688\" xlink:href=\"#DejaVuSans-48\"/>\n      </g>\n     </g>\n    </g>\n    <g id=\"xtick_20\">\n     <g id=\"line2d_20\">\n      <g>\n       <use style=\"stroke:#000000;stroke-width:0.8;\" x=\"494.567012\" xlink:href=\"#m615132764a\" y=\"459.96875\"/>\n      </g>\n     </g>\n     <g id=\"text_20\">\n      <!-- AUG 2020 -->\n      <g transform=\"translate(498.982012 547.82625)rotate(-90)scale(0.16 -0.16)\">\n       <use xlink:href=\"#DejaVuSans-65\"/>\n       <use x=\"68.408203\" xlink:href=\"#DejaVuSans-85\"/>\n       <use x=\"141.601562\" xlink:href=\"#DejaVuSans-71\"/>\n       <use x=\"219.091797\" xlink:href=\"#DejaVuSans-32\"/>\n       <use x=\"250.878906\" xlink:href=\"#DejaVuSans-50\"/>\n       <use x=\"314.501953\" xlink:href=\"#DejaVuSans-48\"/>\n       <use x=\"378.125\" xlink:href=\"#DejaVuSans-50\"/>\n       <use x=\"441.748047\" xlink:href=\"#DejaVuSans-48\"/>\n      </g>\n     </g>\n    </g>\n    <g id=\"xtick_21\">\n     <g id=\"line2d_21\">\n      <g>\n       <use style=\"stroke:#000000;stroke-width:0.8;\" x=\"515.6875\" xlink:href=\"#m615132764a\" y=\"459.96875\"/>\n      </g>\n     </g>\n     <g id=\"text_21\">\n      <!-- SEP 2020 -->\n      <g transform=\"translate(520.1025 542.68875)rotate(-90)scale(0.16 -0.16)\">\n       <use xlink:href=\"#DejaVuSans-83\"/>\n       <use x=\"63.476562\" xlink:href=\"#DejaVuSans-69\"/>\n       <use x=\"126.660156\" xlink:href=\"#DejaVuSans-80\"/>\n       <use x=\"186.962891\" xlink:href=\"#DejaVuSans-32\"/>\n       <use x=\"218.75\" xlink:href=\"#DejaVuSans-50\"/>\n       <use x=\"282.373047\" xlink:href=\"#DejaVuSans-48\"/>\n       <use x=\"345.996094\" xlink:href=\"#DejaVuSans-50\"/>\n       <use x=\"409.619141\" xlink:href=\"#DejaVuSans-48\"/>\n      </g>\n     </g>\n    </g>\n    <g id=\"xtick_22\">\n     <g id=\"line2d_22\">\n      <g>\n       <use style=\"stroke:#000000;stroke-width:0.8;\" x=\"536.807988\" xlink:href=\"#m615132764a\" y=\"459.96875\"/>\n      </g>\n     </g>\n     <g id=\"text_22\">\n      <!-- OCT 2020 -->\n      <g transform=\"translate(541.222988 546.31375)rotate(-90)scale(0.16 -0.16)\">\n       <use xlink:href=\"#DejaVuSans-79\"/>\n       <use x=\"78.710938\" xlink:href=\"#DejaVuSans-67\"/>\n       <use x=\"148.535156\" xlink:href=\"#DejaVuSans-84\"/>\n       <use x=\"209.619141\" xlink:href=\"#DejaVuSans-32\"/>\n       <use x=\"241.40625\" xlink:href=\"#DejaVuSans-50\"/>\n       <use x=\"305.029297\" xlink:href=\"#DejaVuSans-48\"/>\n       <use x=\"368.652344\" xlink:href=\"#DejaVuSans-50\"/>\n       <use x=\"432.275391\" xlink:href=\"#DejaVuSans-48\"/>\n      </g>\n     </g>\n    </g>\n    <g id=\"xtick_23\">\n     <g id=\"line2d_23\">\n      <g>\n       <use style=\"stroke:#000000;stroke-width:0.8;\" x=\"557.928476\" xlink:href=\"#m615132764a\" y=\"459.96875\"/>\n      </g>\n     </g>\n     <g id=\"text_23\">\n      <!-- NOV 2020 -->\n      <g transform=\"translate(562.343476 548.00375)rotate(-90)scale(0.16 -0.16)\">\n       <use xlink:href=\"#DejaVuSans-78\"/>\n       <use x=\"74.804688\" xlink:href=\"#DejaVuSans-79\"/>\n       <use x=\"151.765625\" xlink:href=\"#DejaVuSans-86\"/>\n       <use x=\"220.173828\" xlink:href=\"#DejaVuSans-32\"/>\n       <use x=\"251.960938\" xlink:href=\"#DejaVuSans-50\"/>\n       <use x=\"315.583984\" xlink:href=\"#DejaVuSans-48\"/>\n       <use x=\"379.207031\" xlink:href=\"#DejaVuSans-50\"/>\n       <use x=\"442.830078\" xlink:href=\"#DejaVuSans-48\"/>\n      </g>\n     </g>\n    </g>\n    <g id=\"xtick_24\">\n     <g id=\"line2d_24\">\n      <g>\n       <use style=\"stroke:#000000;stroke-width:0.8;\" x=\"579.048963\" xlink:href=\"#m615132764a\" y=\"459.96875\"/>\n      </g>\n     </g>\n     <g id=\"text_24\">\n      <!-- DEC 2020 -->\n      <g transform=\"translate(583.463963 546.37625)rotate(-90)scale(0.16 -0.16)\">\n       <use xlink:href=\"#DejaVuSans-68\"/>\n       <use x=\"77.001953\" xlink:href=\"#DejaVuSans-69\"/>\n       <use x=\"140.185547\" xlink:href=\"#DejaVuSans-67\"/>\n       <use x=\"210.009766\" xlink:href=\"#DejaVuSans-32\"/>\n       <use x=\"241.796875\" xlink:href=\"#DejaVuSans-50\"/>\n       <use x=\"305.419922\" xlink:href=\"#DejaVuSans-48\"/>\n       <use x=\"369.042969\" xlink:href=\"#DejaVuSans-50\"/>\n       <use x=\"432.666016\" xlink:href=\"#DejaVuSans-48\"/>\n      </g>\n     </g>\n    </g>\n    <g id=\"xtick_25\">\n     <g id=\"line2d_25\">\n      <g>\n       <use style=\"stroke:#000000;stroke-width:0.8;\" x=\"600.169451\" xlink:href=\"#m615132764a\" y=\"459.96875\"/>\n      </g>\n     </g>\n     <g id=\"text_25\">\n      <!-- JAN 2021 -->\n      <g transform=\"translate(604.584451 540.12875)rotate(-90)scale(0.16 -0.16)\">\n       <use xlink:href=\"#DejaVuSans-74\"/>\n       <use x=\"27.742188\" xlink:href=\"#DejaVuSans-65\"/>\n       <use x=\"96.150391\" xlink:href=\"#DejaVuSans-78\"/>\n       <use x=\"170.955078\" xlink:href=\"#DejaVuSans-32\"/>\n       <use x=\"202.742188\" xlink:href=\"#DejaVuSans-50\"/>\n       <use x=\"266.365234\" xlink:href=\"#DejaVuSans-48\"/>\n       <use x=\"329.988281\" xlink:href=\"#DejaVuSans-50\"/>\n       <use x=\"393.611328\" xlink:href=\"#DejaVuSans-49\"/>\n      </g>\n     </g>\n    </g>\n    <g id=\"xtick_26\">\n     <g id=\"line2d_26\">\n      <g>\n       <use style=\"stroke:#000000;stroke-width:0.8;\" x=\"621.289939\" xlink:href=\"#m615132764a\" y=\"459.96875\"/>\n      </g>\n     </g>\n     <g id=\"text_26\">\n      <!-- FEB 2021 -->\n      <g transform=\"translate(625.704939 543.06375)rotate(-90)scale(0.16 -0.16)\">\n       <use xlink:href=\"#DejaVuSans-70\"/>\n       <use x=\"57.519531\" xlink:href=\"#DejaVuSans-69\"/>\n       <use x=\"120.703125\" xlink:href=\"#DejaVuSans-66\"/>\n       <use x=\"189.306641\" xlink:href=\"#DejaVuSans-32\"/>\n       <use x=\"221.09375\" xlink:href=\"#DejaVuSans-50\"/>\n       <use x=\"284.716797\" xlink:href=\"#DejaVuSans-48\"/>\n       <use x=\"348.339844\" xlink:href=\"#DejaVuSans-50\"/>\n       <use x=\"411.962891\" xlink:href=\"#DejaVuSans-49\"/>\n      </g>\n     </g>\n    </g>\n    <g id=\"xtick_27\">\n     <g id=\"line2d_27\">\n      <g>\n       <use style=\"stroke:#000000;stroke-width:0.8;\" x=\"642.410427\" xlink:href=\"#m615132764a\" y=\"459.96875\"/>\n      </g>\n     </g>\n     <g id=\"text_27\">\n      <!-- MAR 2021 -->\n      <g transform=\"translate(646.825427 548.64125)rotate(-90)scale(0.16 -0.16)\">\n       <use xlink:href=\"#DejaVuSans-77\"/>\n       <use x=\"86.279297\" xlink:href=\"#DejaVuSans-65\"/>\n       <use x=\"154.6875\" xlink:href=\"#DejaVuSans-82\"/>\n       <use x=\"224.169922\" xlink:href=\"#DejaVuSans-32\"/>\n       <use x=\"255.957031\" xlink:href=\"#DejaVuSans-50\"/>\n       <use x=\"319.580078\" xlink:href=\"#DejaVuSans-48\"/>\n       <use x=\"383.203125\" xlink:href=\"#DejaVuSans-50\"/>\n       <use x=\"446.826172\" xlink:href=\"#DejaVuSans-49\"/>\n      </g>\n     </g>\n    </g>\n    <g id=\"xtick_28\">\n     <g id=\"line2d_28\">\n      <g>\n       <use style=\"stroke:#000000;stroke-width:0.8;\" x=\"663.530915\" xlink:href=\"#m615132764a\" y=\"459.96875\"/>\n      </g>\n     </g>\n     <g id=\"text_28\">\n      <!-- APR 2021 -->\n      <g transform=\"translate(667.945915 544.48375)rotate(-90)scale(0.16 -0.16)\">\n       <use xlink:href=\"#DejaVuSans-65\"/>\n       <use x=\"68.408203\" xlink:href=\"#DejaVuSans-80\"/>\n       <use x=\"128.710938\" xlink:href=\"#DejaVuSans-82\"/>\n       <use x=\"198.193359\" xlink:href=\"#DejaVuSans-32\"/>\n       <use x=\"229.980469\" xlink:href=\"#DejaVuSans-50\"/>\n       <use x=\"293.603516\" xlink:href=\"#DejaVuSans-48\"/>\n       <use x=\"357.226562\" xlink:href=\"#DejaVuSans-50\"/>\n       <use x=\"420.849609\" xlink:href=\"#DejaVuSans-49\"/>\n      </g>\n     </g>\n    </g>\n    <g id=\"xtick_29\">\n     <g id=\"line2d_29\">\n      <g>\n       <use style=\"stroke:#000000;stroke-width:0.8;\" x=\"684.651402\" xlink:href=\"#m615132764a\" y=\"459.96875\"/>\n      </g>\n     </g>\n     <g id=\"text_29\">\n      <!-- MAY 2021 -->\n      <g transform=\"translate(689.066402 546.05625)rotate(-90)scale(0.16 -0.16)\">\n       <use xlink:href=\"#DejaVuSans-77\"/>\n       <use x=\"86.279297\" xlink:href=\"#DejaVuSans-65\"/>\n       <use x=\"146.9375\" xlink:href=\"#DejaVuSans-89\"/>\n       <use x=\"208.021484\" xlink:href=\"#DejaVuSans-32\"/>\n       <use x=\"239.808594\" xlink:href=\"#DejaVuSans-50\"/>\n       <use x=\"303.431641\" xlink:href=\"#DejaVuSans-48\"/>\n       <use x=\"367.054688\" xlink:href=\"#DejaVuSans-50\"/>\n       <use x=\"430.677734\" xlink:href=\"#DejaVuSans-49\"/>\n      </g>\n     </g>\n    </g>\n    <g id=\"xtick_30\">\n     <g id=\"line2d_30\">\n      <g>\n       <use style=\"stroke:#000000;stroke-width:0.8;\" x=\"705.77189\" xlink:href=\"#m615132764a\" y=\"459.96875\"/>\n      </g>\n     </g>\n     <g id=\"text_30\">\n      <!-- JUN 2021 -->\n      <g transform=\"translate(710.18689 541.17375)rotate(-90)scale(0.16 -0.16)\">\n       <use xlink:href=\"#DejaVuSans-74\"/>\n       <use x=\"29.492188\" xlink:href=\"#DejaVuSans-85\"/>\n       <use x=\"102.685547\" xlink:href=\"#DejaVuSans-78\"/>\n       <use x=\"177.490234\" xlink:href=\"#DejaVuSans-32\"/>\n       <use x=\"209.277344\" xlink:href=\"#DejaVuSans-50\"/>\n       <use x=\"272.900391\" xlink:href=\"#DejaVuSans-48\"/>\n       <use x=\"336.523438\" xlink:href=\"#DejaVuSans-50\"/>\n       <use x=\"400.146484\" xlink:href=\"#DejaVuSans-49\"/>\n      </g>\n     </g>\n    </g>\n    <g id=\"xtick_31\">\n     <g id=\"line2d_31\">\n      <g>\n       <use style=\"stroke:#000000;stroke-width:0.8;\" x=\"726.892378\" xlink:href=\"#m615132764a\" y=\"459.96875\"/>\n      </g>\n     </g>\n     <g id=\"text_31\">\n      <!-- JUL 2021 -->\n      <g transform=\"translate(731.307378 538.11875)rotate(-90)scale(0.16 -0.16)\">\n       <use xlink:href=\"#DejaVuSans-74\"/>\n       <use x=\"29.492188\" xlink:href=\"#DejaVuSans-85\"/>\n       <use x=\"102.685547\" xlink:href=\"#DejaVuSans-76\"/>\n       <use x=\"158.398438\" xlink:href=\"#DejaVuSans-32\"/>\n       <use x=\"190.185547\" xlink:href=\"#DejaVuSans-50\"/>\n       <use x=\"253.808594\" xlink:href=\"#DejaVuSans-48\"/>\n       <use x=\"317.431641\" xlink:href=\"#DejaVuSans-50\"/>\n       <use x=\"381.054688\" xlink:href=\"#DejaVuSans-49\"/>\n      </g>\n     </g>\n    </g>\n    <g id=\"xtick_32\">\n     <g id=\"line2d_32\">\n      <g>\n       <use style=\"stroke:#000000;stroke-width:0.8;\" x=\"748.012866\" xlink:href=\"#m615132764a\" y=\"459.96875\"/>\n      </g>\n     </g>\n     <g id=\"text_32\">\n      <!-- AUG 2021 -->\n      <g transform=\"translate(752.427866 547.82625)rotate(-90)scale(0.16 -0.16)\">\n       <use xlink:href=\"#DejaVuSans-65\"/>\n       <use x=\"68.408203\" xlink:href=\"#DejaVuSans-85\"/>\n       <use x=\"141.601562\" xlink:href=\"#DejaVuSans-71\"/>\n       <use x=\"219.091797\" xlink:href=\"#DejaVuSans-32\"/>\n       <use x=\"250.878906\" xlink:href=\"#DejaVuSans-50\"/>\n       <use x=\"314.501953\" xlink:href=\"#DejaVuSans-48\"/>\n       <use x=\"378.125\" xlink:href=\"#DejaVuSans-50\"/>\n       <use x=\"441.748047\" xlink:href=\"#DejaVuSans-49\"/>\n      </g>\n     </g>\n    </g>\n    <g id=\"xtick_33\">\n     <g id=\"line2d_33\">\n      <g>\n       <use style=\"stroke:#000000;stroke-width:0.8;\" x=\"769.133354\" xlink:href=\"#m615132764a\" y=\"459.96875\"/>\n      </g>\n     </g>\n     <g id=\"text_33\">\n      <!-- SEP 2021 -->\n      <g transform=\"translate(773.548354 542.68875)rotate(-90)scale(0.16 -0.16)\">\n       <use xlink:href=\"#DejaVuSans-83\"/>\n       <use x=\"63.476562\" xlink:href=\"#DejaVuSans-69\"/>\n       <use x=\"126.660156\" xlink:href=\"#DejaVuSans-80\"/>\n       <use x=\"186.962891\" xlink:href=\"#DejaVuSans-32\"/>\n       <use x=\"218.75\" xlink:href=\"#DejaVuSans-50\"/>\n       <use x=\"282.373047\" xlink:href=\"#DejaVuSans-48\"/>\n       <use x=\"345.996094\" xlink:href=\"#DejaVuSans-50\"/>\n       <use x=\"409.619141\" xlink:href=\"#DejaVuSans-49\"/>\n      </g>\n     </g>\n    </g>\n    <g id=\"xtick_34\">\n     <g id=\"line2d_34\">\n      <g>\n       <use style=\"stroke:#000000;stroke-width:0.8;\" x=\"790.253841\" xlink:href=\"#m615132764a\" y=\"459.96875\"/>\n      </g>\n     </g>\n     <g id=\"text_34\">\n      <!-- OCT 2021 -->\n      <g transform=\"translate(794.668841 546.31375)rotate(-90)scale(0.16 -0.16)\">\n       <use xlink:href=\"#DejaVuSans-79\"/>\n       <use x=\"78.710938\" xlink:href=\"#DejaVuSans-67\"/>\n       <use x=\"148.535156\" xlink:href=\"#DejaVuSans-84\"/>\n       <use x=\"209.619141\" xlink:href=\"#DejaVuSans-32\"/>\n       <use x=\"241.40625\" xlink:href=\"#DejaVuSans-50\"/>\n       <use x=\"305.029297\" xlink:href=\"#DejaVuSans-48\"/>\n       <use x=\"368.652344\" xlink:href=\"#DejaVuSans-50\"/>\n       <use x=\"432.275391\" xlink:href=\"#DejaVuSans-49\"/>\n      </g>\n     </g>\n    </g>\n    <g id=\"xtick_35\">\n     <g id=\"line2d_35\">\n      <g>\n       <use style=\"stroke:#000000;stroke-width:0.8;\" x=\"811.374329\" xlink:href=\"#m615132764a\" y=\"459.96875\"/>\n      </g>\n     </g>\n     <g id=\"text_35\">\n      <!-- NOV 2021 -->\n      <g transform=\"translate(815.789329 548.00375)rotate(-90)scale(0.16 -0.16)\">\n       <use xlink:href=\"#DejaVuSans-78\"/>\n       <use x=\"74.804688\" xlink:href=\"#DejaVuSans-79\"/>\n       <use x=\"151.765625\" xlink:href=\"#DejaVuSans-86\"/>\n       <use x=\"220.173828\" xlink:href=\"#DejaVuSans-32\"/>\n       <use x=\"251.960938\" xlink:href=\"#DejaVuSans-50\"/>\n       <use x=\"315.583984\" xlink:href=\"#DejaVuSans-48\"/>\n       <use x=\"379.207031\" xlink:href=\"#DejaVuSans-50\"/>\n       <use x=\"442.830078\" xlink:href=\"#DejaVuSans-49\"/>\n      </g>\n     </g>\n    </g>\n    <g id=\"xtick_36\">\n     <g id=\"line2d_36\">\n      <g>\n       <use style=\"stroke:#000000;stroke-width:0.8;\" x=\"832.494817\" xlink:href=\"#m615132764a\" y=\"459.96875\"/>\n      </g>\n     </g>\n     <g id=\"text_36\">\n      <!-- DEC 2021 -->\n      <g transform=\"translate(836.909817 546.37625)rotate(-90)scale(0.16 -0.16)\">\n       <use xlink:href=\"#DejaVuSans-68\"/>\n       <use x=\"77.001953\" xlink:href=\"#DejaVuSans-69\"/>\n       <use x=\"140.185547\" xlink:href=\"#DejaVuSans-67\"/>\n       <use x=\"210.009766\" xlink:href=\"#DejaVuSans-32\"/>\n       <use x=\"241.796875\" xlink:href=\"#DejaVuSans-50\"/>\n       <use x=\"305.419922\" xlink:href=\"#DejaVuSans-48\"/>\n       <use x=\"369.042969\" xlink:href=\"#DejaVuSans-50\"/>\n       <use x=\"432.666016\" xlink:href=\"#DejaVuSans-49\"/>\n      </g>\n     </g>\n    </g>\n    <g id=\"xtick_37\">\n     <g id=\"line2d_37\">\n      <g>\n       <use style=\"stroke:#000000;stroke-width:0.8;\" x=\"853.615305\" xlink:href=\"#m615132764a\" y=\"459.96875\"/>\n      </g>\n     </g>\n     <g id=\"text_37\">\n      <!-- JAN 2022 -->\n      <g transform=\"translate(858.030305 540.12875)rotate(-90)scale(0.16 -0.16)\">\n       <use xlink:href=\"#DejaVuSans-74\"/>\n       <use x=\"27.742188\" xlink:href=\"#DejaVuSans-65\"/>\n       <use x=\"96.150391\" xlink:href=\"#DejaVuSans-78\"/>\n       <use x=\"170.955078\" xlink:href=\"#DejaVuSans-32\"/>\n       <use x=\"202.742188\" xlink:href=\"#DejaVuSans-50\"/>\n       <use x=\"266.365234\" xlink:href=\"#DejaVuSans-48\"/>\n       <use x=\"329.988281\" xlink:href=\"#DejaVuSans-50\"/>\n       <use x=\"393.611328\" xlink:href=\"#DejaVuSans-50\"/>\n      </g>\n     </g>\n    </g>\n    <g id=\"xtick_38\">\n     <g id=\"line2d_38\">\n      <g>\n       <use style=\"stroke:#000000;stroke-width:0.8;\" x=\"874.735793\" xlink:href=\"#m615132764a\" y=\"459.96875\"/>\n      </g>\n     </g>\n     <g id=\"text_38\">\n      <!-- FEB 2022 -->\n      <g transform=\"translate(879.150793 543.06375)rotate(-90)scale(0.16 -0.16)\">\n       <use xlink:href=\"#DejaVuSans-70\"/>\n       <use x=\"57.519531\" xlink:href=\"#DejaVuSans-69\"/>\n       <use x=\"120.703125\" xlink:href=\"#DejaVuSans-66\"/>\n       <use x=\"189.306641\" xlink:href=\"#DejaVuSans-32\"/>\n       <use x=\"221.09375\" xlink:href=\"#DejaVuSans-50\"/>\n       <use x=\"284.716797\" xlink:href=\"#DejaVuSans-48\"/>\n       <use x=\"348.339844\" xlink:href=\"#DejaVuSans-50\"/>\n       <use x=\"411.962891\" xlink:href=\"#DejaVuSans-50\"/>\n      </g>\n     </g>\n    </g>\n    <g id=\"xtick_39\">\n     <g id=\"line2d_39\">\n      <g>\n       <use style=\"stroke:#000000;stroke-width:0.8;\" x=\"895.85628\" xlink:href=\"#m615132764a\" y=\"459.96875\"/>\n      </g>\n     </g>\n     <g id=\"text_39\">\n      <!-- MAR 2022 -->\n      <g transform=\"translate(900.27128 548.64125)rotate(-90)scale(0.16 -0.16)\">\n       <use xlink:href=\"#DejaVuSans-77\"/>\n       <use x=\"86.279297\" xlink:href=\"#DejaVuSans-65\"/>\n       <use x=\"154.6875\" xlink:href=\"#DejaVuSans-82\"/>\n       <use x=\"224.169922\" xlink:href=\"#DejaVuSans-32\"/>\n       <use x=\"255.957031\" xlink:href=\"#DejaVuSans-50\"/>\n       <use x=\"319.580078\" xlink:href=\"#DejaVuSans-48\"/>\n       <use x=\"383.203125\" xlink:href=\"#DejaVuSans-50\"/>\n       <use x=\"446.826172\" xlink:href=\"#DejaVuSans-50\"/>\n      </g>\n     </g>\n    </g>\n    <g id=\"xtick_40\">\n     <g id=\"line2d_40\">\n      <g>\n       <use style=\"stroke:#000000;stroke-width:0.8;\" x=\"916.976768\" xlink:href=\"#m615132764a\" y=\"459.96875\"/>\n      </g>\n     </g>\n     <g id=\"text_40\">\n      <!-- APR 2022 -->\n      <g transform=\"translate(921.391768 544.48375)rotate(-90)scale(0.16 -0.16)\">\n       <use xlink:href=\"#DejaVuSans-65\"/>\n       <use x=\"68.408203\" xlink:href=\"#DejaVuSans-80\"/>\n       <use x=\"128.710938\" xlink:href=\"#DejaVuSans-82\"/>\n       <use x=\"198.193359\" xlink:href=\"#DejaVuSans-32\"/>\n       <use x=\"229.980469\" xlink:href=\"#DejaVuSans-50\"/>\n       <use x=\"293.603516\" xlink:href=\"#DejaVuSans-48\"/>\n       <use x=\"357.226562\" xlink:href=\"#DejaVuSans-50\"/>\n       <use x=\"420.849609\" xlink:href=\"#DejaVuSans-50\"/>\n      </g>\n     </g>\n    </g>\n    <g id=\"xtick_41\">\n     <g id=\"line2d_41\">\n      <g>\n       <use style=\"stroke:#000000;stroke-width:0.8;\" x=\"938.097256\" xlink:href=\"#m615132764a\" y=\"459.96875\"/>\n      </g>\n     </g>\n     <g id=\"text_41\">\n      <!-- MAY 2022 -->\n      <g transform=\"translate(942.512256 546.05625)rotate(-90)scale(0.16 -0.16)\">\n       <use xlink:href=\"#DejaVuSans-77\"/>\n       <use x=\"86.279297\" xlink:href=\"#DejaVuSans-65\"/>\n       <use x=\"146.9375\" xlink:href=\"#DejaVuSans-89\"/>\n       <use x=\"208.021484\" xlink:href=\"#DejaVuSans-32\"/>\n       <use x=\"239.808594\" xlink:href=\"#DejaVuSans-50\"/>\n       <use x=\"303.431641\" xlink:href=\"#DejaVuSans-48\"/>\n       <use x=\"367.054688\" xlink:href=\"#DejaVuSans-50\"/>\n       <use x=\"430.677734\" xlink:href=\"#DejaVuSans-50\"/>\n      </g>\n     </g>\n    </g>\n   </g>\n   <g id=\"matplotlib.axis_2\">\n    <g id=\"ytick_1\">\n     <g id=\"line2d_42\">\n      <defs>\n       <path d=\"M 0 0 \nL -3.5 0 \n\" id=\"mc016cc7aee\" style=\"stroke:#000000;stroke-width:0.8;\"/>\n      </defs>\n      <g>\n       <use style=\"stroke:#000000;stroke-width:0.8;\" x=\"82.7175\" xlink:href=\"#mc016cc7aee\" y=\"425.806667\"/>\n      </g>\n     </g>\n     <g id=\"text_42\">\n      <!-- −0.02 -->\n      <defs>\n       <path d=\"M 10.59375 35.5 \nL 73.1875 35.5 \nL 73.1875 27.203125 \nL 10.59375 27.203125 \nz\n\" id=\"DejaVuSans-8722\"/>\n       <path d=\"M 10.6875 12.40625 \nL 21 12.40625 \nL 21 0 \nL 10.6875 0 \nz\n\" id=\"DejaVuSans-46\"/>\n      </defs>\n      <g transform=\"translate(26.685 431.885417)scale(0.16 -0.16)\">\n       <use xlink:href=\"#DejaVuSans-8722\"/>\n       <use x=\"83.789062\" xlink:href=\"#DejaVuSans-48\"/>\n       <use x=\"147.412109\" xlink:href=\"#DejaVuSans-46\"/>\n       <use x=\"179.199219\" xlink:href=\"#DejaVuSans-48\"/>\n       <use x=\"242.822266\" xlink:href=\"#DejaVuSans-50\"/>\n      </g>\n     </g>\n    </g>\n    <g id=\"ytick_2\">\n     <g id=\"line2d_43\">\n      <g>\n       <use style=\"stroke:#000000;stroke-width:0.8;\" x=\"82.7175\" xlink:href=\"#mc016cc7aee\" y=\"327.994847\"/>\n      </g>\n     </g>\n     <g id=\"text_43\">\n      <!-- −0.01 -->\n      <g transform=\"translate(26.685 334.073597)scale(0.16 -0.16)\">\n       <use xlink:href=\"#DejaVuSans-8722\"/>\n       <use x=\"83.789062\" xlink:href=\"#DejaVuSans-48\"/>\n       <use x=\"147.412109\" xlink:href=\"#DejaVuSans-46\"/>\n       <use x=\"179.199219\" xlink:href=\"#DejaVuSans-48\"/>\n       <use x=\"242.822266\" xlink:href=\"#DejaVuSans-49\"/>\n      </g>\n     </g>\n    </g>\n    <g id=\"ytick_3\">\n     <g id=\"line2d_44\">\n      <g>\n       <use style=\"stroke:#000000;stroke-width:0.8;\" x=\"82.7175\" xlink:href=\"#mc016cc7aee\" y=\"230.183027\"/>\n      </g>\n     </g>\n     <g id=\"text_44\">\n      <!-- 0.00 -->\n      <g transform=\"translate(40.0925 236.261777)scale(0.16 -0.16)\">\n       <use xlink:href=\"#DejaVuSans-48\"/>\n       <use x=\"63.623047\" xlink:href=\"#DejaVuSans-46\"/>\n       <use x=\"95.410156\" xlink:href=\"#DejaVuSans-48\"/>\n       <use x=\"159.033203\" xlink:href=\"#DejaVuSans-48\"/>\n      </g>\n     </g>\n    </g>\n    <g id=\"ytick_4\">\n     <g id=\"line2d_45\">\n      <g>\n       <use style=\"stroke:#000000;stroke-width:0.8;\" x=\"82.7175\" xlink:href=\"#mc016cc7aee\" y=\"132.371207\"/>\n      </g>\n     </g>\n     <g id=\"text_45\">\n      <!-- 0.01 -->\n      <g transform=\"translate(40.0925 138.449957)scale(0.16 -0.16)\">\n       <use xlink:href=\"#DejaVuSans-48\"/>\n       <use x=\"63.623047\" xlink:href=\"#DejaVuSans-46\"/>\n       <use x=\"95.410156\" xlink:href=\"#DejaVuSans-48\"/>\n       <use x=\"159.033203\" xlink:href=\"#DejaVuSans-49\"/>\n      </g>\n     </g>\n    </g>\n    <g id=\"ytick_5\">\n     <g id=\"line2d_46\">\n      <g>\n       <use style=\"stroke:#000000;stroke-width:0.8;\" x=\"82.7175\" xlink:href=\"#mc016cc7aee\" y=\"34.559387\"/>\n      </g>\n     </g>\n     <g id=\"text_46\">\n      <!-- 0.02 -->\n      <g transform=\"translate(40.0925 40.638137)scale(0.16 -0.16)\">\n       <use xlink:href=\"#DejaVuSans-48\"/>\n       <use x=\"63.623047\" xlink:href=\"#DejaVuSans-46\"/>\n       <use x=\"95.410156\" xlink:href=\"#DejaVuSans-48\"/>\n       <use x=\"159.033203\" xlink:href=\"#DejaVuSans-50\"/>\n      </g>\n     </g>\n    </g>\n    <g id=\"text_47\">\n     <!-- Percent Change in Home Prices -->\n     <defs>\n      <path d=\"M 56.203125 29.59375 \nL 56.203125 25.203125 \nL 14.890625 25.203125 \nQ 15.484375 15.921875 20.484375 11.0625 \nQ 25.484375 6.203125 34.421875 6.203125 \nQ 39.59375 6.203125 44.453125 7.46875 \nQ 49.3125 8.734375 54.109375 11.28125 \nL 54.109375 2.78125 \nQ 49.265625 0.734375 44.1875 -0.34375 \nQ 39.109375 -1.421875 33.890625 -1.421875 \nQ 20.796875 -1.421875 13.15625 6.1875 \nQ 5.515625 13.8125 5.515625 26.8125 \nQ 5.515625 40.234375 12.765625 48.109375 \nQ 20.015625 56 32.328125 56 \nQ 43.359375 56 49.78125 48.890625 \nQ 56.203125 41.796875 56.203125 29.59375 \nz\nM 47.21875 32.234375 \nQ 47.125 39.59375 43.09375 43.984375 \nQ 39.0625 48.390625 32.421875 48.390625 \nQ 24.90625 48.390625 20.390625 44.140625 \nQ 15.875 39.890625 15.1875 32.171875 \nz\n\" id=\"DejaVuSans-101\"/>\n      <path d=\"M 41.109375 46.296875 \nQ 39.59375 47.171875 37.8125 47.578125 \nQ 36.03125 48 33.890625 48 \nQ 26.265625 48 22.1875 43.046875 \nQ 18.109375 38.09375 18.109375 28.8125 \nL 18.109375 0 \nL 9.078125 0 \nL 9.078125 54.6875 \nL 18.109375 54.6875 \nL 18.109375 46.1875 \nQ 20.953125 51.171875 25.484375 53.578125 \nQ 30.03125 56 36.53125 56 \nQ 37.453125 56 38.578125 55.875 \nQ 39.703125 55.765625 41.0625 55.515625 \nz\n\" id=\"DejaVuSans-114\"/>\n      <path d=\"M 48.78125 52.59375 \nL 48.78125 44.1875 \nQ 44.96875 46.296875 41.140625 47.34375 \nQ 37.3125 48.390625 33.40625 48.390625 \nQ 24.65625 48.390625 19.8125 42.84375 \nQ 14.984375 37.3125 14.984375 27.296875 \nQ 14.984375 17.28125 19.8125 11.734375 \nQ 24.65625 6.203125 33.40625 6.203125 \nQ 37.3125 6.203125 41.140625 7.25 \nQ 44.96875 8.296875 48.78125 10.40625 \nL 48.78125 2.09375 \nQ 45.015625 0.34375 40.984375 -0.53125 \nQ 36.96875 -1.421875 32.421875 -1.421875 \nQ 20.0625 -1.421875 12.78125 6.34375 \nQ 5.515625 14.109375 5.515625 27.296875 \nQ 5.515625 40.671875 12.859375 48.328125 \nQ 20.21875 56 33.015625 56 \nQ 37.15625 56 41.109375 55.140625 \nQ 45.0625 54.296875 48.78125 52.59375 \nz\n\" id=\"DejaVuSans-99\"/>\n      <path d=\"M 54.890625 33.015625 \nL 54.890625 0 \nL 45.90625 0 \nL 45.90625 32.71875 \nQ 45.90625 40.484375 42.875 44.328125 \nQ 39.84375 48.1875 33.796875 48.1875 \nQ 26.515625 48.1875 22.3125 43.546875 \nQ 18.109375 38.921875 18.109375 30.90625 \nL 18.109375 0 \nL 9.078125 0 \nL 9.078125 54.6875 \nL 18.109375 54.6875 \nL 18.109375 46.1875 \nQ 21.34375 51.125 25.703125 53.5625 \nQ 30.078125 56 35.796875 56 \nQ 45.21875 56 50.046875 50.171875 \nQ 54.890625 44.34375 54.890625 33.015625 \nz\n\" id=\"DejaVuSans-110\"/>\n      <path d=\"M 18.3125 70.21875 \nL 18.3125 54.6875 \nL 36.8125 54.6875 \nL 36.8125 47.703125 \nL 18.3125 47.703125 \nL 18.3125 18.015625 \nQ 18.3125 11.328125 20.140625 9.421875 \nQ 21.96875 7.515625 27.59375 7.515625 \nL 36.8125 7.515625 \nL 36.8125 0 \nL 27.59375 0 \nQ 17.1875 0 13.234375 3.875 \nQ 9.28125 7.765625 9.28125 18.015625 \nL 9.28125 47.703125 \nL 2.6875 47.703125 \nL 2.6875 54.6875 \nL 9.28125 54.6875 \nL 9.28125 70.21875 \nz\n\" id=\"DejaVuSans-116\"/>\n      <path d=\"M 54.890625 33.015625 \nL 54.890625 0 \nL 45.90625 0 \nL 45.90625 32.71875 \nQ 45.90625 40.484375 42.875 44.328125 \nQ 39.84375 48.1875 33.796875 48.1875 \nQ 26.515625 48.1875 22.3125 43.546875 \nQ 18.109375 38.921875 18.109375 30.90625 \nL 18.109375 0 \nL 9.078125 0 \nL 9.078125 75.984375 \nL 18.109375 75.984375 \nL 18.109375 46.1875 \nQ 21.34375 51.125 25.703125 53.5625 \nQ 30.078125 56 35.796875 56 \nQ 45.21875 56 50.046875 50.171875 \nQ 54.890625 44.34375 54.890625 33.015625 \nz\n\" id=\"DejaVuSans-104\"/>\n      <path d=\"M 34.28125 27.484375 \nQ 23.390625 27.484375 19.1875 25 \nQ 14.984375 22.515625 14.984375 16.5 \nQ 14.984375 11.71875 18.140625 8.90625 \nQ 21.296875 6.109375 26.703125 6.109375 \nQ 34.1875 6.109375 38.703125 11.40625 \nQ 43.21875 16.703125 43.21875 25.484375 \nL 43.21875 27.484375 \nz\nM 52.203125 31.203125 \nL 52.203125 0 \nL 43.21875 0 \nL 43.21875 8.296875 \nQ 40.140625 3.328125 35.546875 0.953125 \nQ 30.953125 -1.421875 24.3125 -1.421875 \nQ 15.921875 -1.421875 10.953125 3.296875 \nQ 6 8.015625 6 15.921875 \nQ 6 25.140625 12.171875 29.828125 \nQ 18.359375 34.515625 30.609375 34.515625 \nL 43.21875 34.515625 \nL 43.21875 35.40625 \nQ 43.21875 41.609375 39.140625 45 \nQ 35.0625 48.390625 27.6875 48.390625 \nQ 23 48.390625 18.546875 47.265625 \nQ 14.109375 46.140625 10.015625 43.890625 \nL 10.015625 52.203125 \nQ 14.9375 54.109375 19.578125 55.046875 \nQ 24.21875 56 28.609375 56 \nQ 40.484375 56 46.34375 49.84375 \nQ 52.203125 43.703125 52.203125 31.203125 \nz\n\" id=\"DejaVuSans-97\"/>\n      <path d=\"M 45.40625 27.984375 \nQ 45.40625 37.75 41.375 43.109375 \nQ 37.359375 48.484375 30.078125 48.484375 \nQ 22.859375 48.484375 18.828125 43.109375 \nQ 14.796875 37.75 14.796875 27.984375 \nQ 14.796875 18.265625 18.828125 12.890625 \nQ 22.859375 7.515625 30.078125 7.515625 \nQ 37.359375 7.515625 41.375 12.890625 \nQ 45.40625 18.265625 45.40625 27.984375 \nz\nM 54.390625 6.78125 \nQ 54.390625 -7.171875 48.1875 -13.984375 \nQ 42 -20.796875 29.203125 -20.796875 \nQ 24.46875 -20.796875 20.265625 -20.09375 \nQ 16.0625 -19.390625 12.109375 -17.921875 \nL 12.109375 -9.1875 \nQ 16.0625 -11.328125 19.921875 -12.34375 \nQ 23.78125 -13.375 27.78125 -13.375 \nQ 36.625 -13.375 41.015625 -8.765625 \nQ 45.40625 -4.15625 45.40625 5.171875 \nL 45.40625 9.625 \nQ 42.625 4.78125 38.28125 2.390625 \nQ 33.9375 0 27.875 0 \nQ 17.828125 0 11.671875 7.65625 \nQ 5.515625 15.328125 5.515625 27.984375 \nQ 5.515625 40.671875 11.671875 48.328125 \nQ 17.828125 56 27.875 56 \nQ 33.9375 56 38.28125 53.609375 \nQ 42.625 51.21875 45.40625 46.390625 \nL 45.40625 54.6875 \nL 54.390625 54.6875 \nz\n\" id=\"DejaVuSans-103\"/>\n      <path d=\"M 9.421875 54.6875 \nL 18.40625 54.6875 \nL 18.40625 0 \nL 9.421875 0 \nz\nM 9.421875 75.984375 \nL 18.40625 75.984375 \nL 18.40625 64.59375 \nL 9.421875 64.59375 \nz\n\" id=\"DejaVuSans-105\"/>\n      <path d=\"M 9.8125 72.90625 \nL 19.671875 72.90625 \nL 19.671875 43.015625 \nL 55.515625 43.015625 \nL 55.515625 72.90625 \nL 65.375 72.90625 \nL 65.375 0 \nL 55.515625 0 \nL 55.515625 34.71875 \nL 19.671875 34.71875 \nL 19.671875 0 \nL 9.8125 0 \nz\n\" id=\"DejaVuSans-72\"/>\n      <path d=\"M 30.609375 48.390625 \nQ 23.390625 48.390625 19.1875 42.75 \nQ 14.984375 37.109375 14.984375 27.296875 \nQ 14.984375 17.484375 19.15625 11.84375 \nQ 23.34375 6.203125 30.609375 6.203125 \nQ 37.796875 6.203125 41.984375 11.859375 \nQ 46.1875 17.53125 46.1875 27.296875 \nQ 46.1875 37.015625 41.984375 42.703125 \nQ 37.796875 48.390625 30.609375 48.390625 \nz\nM 30.609375 56 \nQ 42.328125 56 49.015625 48.375 \nQ 55.71875 40.765625 55.71875 27.296875 \nQ 55.71875 13.875 49.015625 6.21875 \nQ 42.328125 -1.421875 30.609375 -1.421875 \nQ 18.84375 -1.421875 12.171875 6.21875 \nQ 5.515625 13.875 5.515625 27.296875 \nQ 5.515625 40.765625 12.171875 48.375 \nQ 18.84375 56 30.609375 56 \nz\n\" id=\"DejaVuSans-111\"/>\n      <path d=\"M 52 44.1875 \nQ 55.375 50.25 60.0625 53.125 \nQ 64.75 56 71.09375 56 \nQ 79.640625 56 84.28125 50.015625 \nQ 88.921875 44.046875 88.921875 33.015625 \nL 88.921875 0 \nL 79.890625 0 \nL 79.890625 32.71875 \nQ 79.890625 40.578125 77.09375 44.375 \nQ 74.3125 48.1875 68.609375 48.1875 \nQ 61.625 48.1875 57.5625 43.546875 \nQ 53.515625 38.921875 53.515625 30.90625 \nL 53.515625 0 \nL 44.484375 0 \nL 44.484375 32.71875 \nQ 44.484375 40.625 41.703125 44.40625 \nQ 38.921875 48.1875 33.109375 48.1875 \nQ 26.21875 48.1875 22.15625 43.53125 \nQ 18.109375 38.875 18.109375 30.90625 \nL 18.109375 0 \nL 9.078125 0 \nL 9.078125 54.6875 \nL 18.109375 54.6875 \nL 18.109375 46.1875 \nQ 21.1875 51.21875 25.484375 53.609375 \nQ 29.78125 56 35.6875 56 \nQ 41.65625 56 45.828125 52.96875 \nQ 50 49.953125 52 44.1875 \nz\n\" id=\"DejaVuSans-109\"/>\n      <path d=\"M 44.28125 53.078125 \nL 44.28125 44.578125 \nQ 40.484375 46.53125 36.375 47.5 \nQ 32.28125 48.484375 27.875 48.484375 \nQ 21.1875 48.484375 17.84375 46.4375 \nQ 14.5 44.390625 14.5 40.28125 \nQ 14.5 37.15625 16.890625 35.375 \nQ 19.28125 33.59375 26.515625 31.984375 \nL 29.59375 31.296875 \nQ 39.15625 29.25 43.1875 25.515625 \nQ 47.21875 21.78125 47.21875 15.09375 \nQ 47.21875 7.46875 41.1875 3.015625 \nQ 35.15625 -1.421875 24.609375 -1.421875 \nQ 20.21875 -1.421875 15.453125 -0.5625 \nQ 10.6875 0.296875 5.421875 2 \nL 5.421875 11.28125 \nQ 10.40625 8.6875 15.234375 7.390625 \nQ 20.0625 6.109375 24.8125 6.109375 \nQ 31.15625 6.109375 34.5625 8.28125 \nQ 37.984375 10.453125 37.984375 14.40625 \nQ 37.984375 18.0625 35.515625 20.015625 \nQ 33.0625 21.96875 24.703125 23.78125 \nL 21.578125 24.515625 \nQ 13.234375 26.265625 9.515625 29.90625 \nQ 5.8125 33.546875 5.8125 39.890625 \nQ 5.8125 47.609375 11.28125 51.796875 \nQ 16.75 56 26.8125 56 \nQ 31.78125 56 36.171875 55.265625 \nQ 40.578125 54.546875 44.28125 53.078125 \nz\n\" id=\"DejaVuSans-115\"/>\n     </defs>\n     <g transform=\"translate(19.3575 362.11875)rotate(-90)scale(0.16 -0.16)\">\n      <use xlink:href=\"#DejaVuSans-80\"/>\n      <use x=\"56.677734\" xlink:href=\"#DejaVuSans-101\"/>\n      <use x=\"118.201172\" xlink:href=\"#DejaVuSans-114\"/>\n      <use x=\"157.064453\" xlink:href=\"#DejaVuSans-99\"/>\n      <use x=\"212.044922\" xlink:href=\"#DejaVuSans-101\"/>\n      <use x=\"273.568359\" xlink:href=\"#DejaVuSans-110\"/>\n      <use x=\"336.947266\" xlink:href=\"#DejaVuSans-116\"/>\n      <use x=\"376.15625\" xlink:href=\"#DejaVuSans-32\"/>\n      <use x=\"407.943359\" xlink:href=\"#DejaVuSans-67\"/>\n      <use x=\"477.767578\" xlink:href=\"#DejaVuSans-104\"/>\n      <use x=\"541.146484\" xlink:href=\"#DejaVuSans-97\"/>\n      <use x=\"602.425781\" xlink:href=\"#DejaVuSans-110\"/>\n      <use x=\"665.804688\" xlink:href=\"#DejaVuSans-103\"/>\n      <use x=\"729.28125\" xlink:href=\"#DejaVuSans-101\"/>\n      <use x=\"790.804688\" xlink:href=\"#DejaVuSans-32\"/>\n      <use x=\"822.591797\" xlink:href=\"#DejaVuSans-105\"/>\n      <use x=\"850.375\" xlink:href=\"#DejaVuSans-110\"/>\n      <use x=\"913.753906\" xlink:href=\"#DejaVuSans-32\"/>\n      <use x=\"945.541016\" xlink:href=\"#DejaVuSans-72\"/>\n      <use x=\"1020.736328\" xlink:href=\"#DejaVuSans-111\"/>\n      <use x=\"1081.917969\" xlink:href=\"#DejaVuSans-109\"/>\n      <use x=\"1179.330078\" xlink:href=\"#DejaVuSans-101\"/>\n      <use x=\"1240.853516\" xlink:href=\"#DejaVuSans-32\"/>\n      <use x=\"1272.640625\" xlink:href=\"#DejaVuSans-80\"/>\n      <use x=\"1331.193359\" xlink:href=\"#DejaVuSans-114\"/>\n      <use x=\"1372.306641\" xlink:href=\"#DejaVuSans-105\"/>\n      <use x=\"1400.089844\" xlink:href=\"#DejaVuSans-99\"/>\n      <use x=\"1455.070312\" xlink:href=\"#DejaVuSans-101\"/>\n      <use x=\"1516.59375\" xlink:href=\"#DejaVuSans-115\"/>\n     </g>\n    </g>\n   </g>\n   <g id=\"line2d_47\">\n    <path clip-path=\"url(#p01beef44a8)\" d=\"M 0 0 \n\" style=\"fill:none;stroke:#424242;stroke-linecap:square;stroke-width:2.7;\"/>\n   </g>\n   <g id=\"line2d_48\">\n    <path clip-path=\"url(#p01beef44a8)\" d=\"M 0 0 \n\" style=\"fill:none;stroke:#424242;stroke-linecap:square;stroke-width:2.7;\"/>\n   </g>\n   <g id=\"line2d_49\">\n    <path clip-path=\"url(#p01beef44a8)\" d=\"M 0 0 \n\" style=\"fill:none;stroke:#424242;stroke-linecap:square;stroke-width:2.7;\"/>\n   </g>\n   <g id=\"line2d_50\">\n    <path clip-path=\"url(#p01beef44a8)\" d=\"M 0 0 \n\" style=\"fill:none;stroke:#424242;stroke-linecap:square;stroke-width:2.7;\"/>\n   </g>\n   <g id=\"line2d_51\">\n    <path clip-path=\"url(#p01beef44a8)\" d=\"M 0 0 \n\" style=\"fill:none;stroke:#424242;stroke-linecap:square;stroke-width:2.7;\"/>\n   </g>\n   <g id=\"line2d_52\">\n    <path clip-path=\"url(#p01beef44a8)\" d=\"M 0 0 \n\" style=\"fill:none;stroke:#424242;stroke-linecap:square;stroke-width:2.7;\"/>\n   </g>\n   <g id=\"line2d_53\">\n    <path clip-path=\"url(#p01beef44a8)\" d=\"M 0 0 \n\" style=\"fill:none;stroke:#424242;stroke-linecap:square;stroke-width:2.7;\"/>\n   </g>\n   <g id=\"line2d_54\">\n    <path clip-path=\"url(#p01beef44a8)\" d=\"M 0 0 \n\" style=\"fill:none;stroke:#424242;stroke-linecap:square;stroke-width:2.7;\"/>\n   </g>\n   <g id=\"line2d_55\">\n    <path clip-path=\"url(#p01beef44a8)\" d=\"M 0 0 \n\" style=\"fill:none;stroke:#424242;stroke-linecap:square;stroke-width:2.7;\"/>\n   </g>\n   <g id=\"line2d_56\">\n    <path clip-path=\"url(#p01beef44a8)\" d=\"M 0 0 \n\" style=\"fill:none;stroke:#424242;stroke-linecap:square;stroke-width:2.7;\"/>\n   </g>\n   <g id=\"line2d_57\">\n    <path clip-path=\"url(#p01beef44a8)\" d=\"M 0 0 \n\" style=\"fill:none;stroke:#424242;stroke-linecap:square;stroke-width:2.7;\"/>\n   </g>\n   <g id=\"line2d_58\">\n    <path clip-path=\"url(#p01beef44a8)\" d=\"M 0 0 \n\" style=\"fill:none;stroke:#424242;stroke-linecap:square;stroke-width:2.7;\"/>\n   </g>\n   <g id=\"line2d_59\">\n    <path clip-path=\"url(#p01beef44a8)\" d=\"M 0 0 \n\" style=\"fill:none;stroke:#424242;stroke-linecap:square;stroke-width:2.7;\"/>\n   </g>\n   <g id=\"line2d_60\">\n    <path clip-path=\"url(#p01beef44a8)\" d=\"M 0 0 \n\" style=\"fill:none;stroke:#424242;stroke-linecap:square;stroke-width:2.7;\"/>\n   </g>\n   <g id=\"line2d_61\">\n    <path clip-path=\"url(#p01beef44a8)\" d=\"M 0 0 \n\" style=\"fill:none;stroke:#424242;stroke-linecap:square;stroke-width:2.7;\"/>\n   </g>\n   <g id=\"line2d_62\">\n    <path clip-path=\"url(#p01beef44a8)\" d=\"M 0 0 \n\" style=\"fill:none;stroke:#424242;stroke-linecap:square;stroke-width:2.7;\"/>\n   </g>\n   <g id=\"line2d_63\">\n    <path clip-path=\"url(#p01beef44a8)\" d=\"M 0 0 \n\" style=\"fill:none;stroke:#424242;stroke-linecap:square;stroke-width:2.7;\"/>\n   </g>\n   <g id=\"line2d_64\">\n    <path clip-path=\"url(#p01beef44a8)\" d=\"M 0 0 \n\" style=\"fill:none;stroke:#424242;stroke-linecap:square;stroke-width:2.7;\"/>\n   </g>\n   <g id=\"line2d_65\">\n    <path clip-path=\"url(#p01beef44a8)\" d=\"M 0 0 \n\" style=\"fill:none;stroke:#424242;stroke-linecap:square;stroke-width:2.7;\"/>\n   </g>\n   <g id=\"line2d_66\">\n    <path clip-path=\"url(#p01beef44a8)\" d=\"M 0 0 \n\" style=\"fill:none;stroke:#424242;stroke-linecap:square;stroke-width:2.7;\"/>\n   </g>\n   <g id=\"line2d_67\">\n    <path clip-path=\"url(#p01beef44a8)\" d=\"M 0 0 \n\" style=\"fill:none;stroke:#424242;stroke-linecap:square;stroke-width:2.7;\"/>\n   </g>\n   <g id=\"line2d_68\">\n    <path clip-path=\"url(#p01beef44a8)\" d=\"M 0 0 \n\" style=\"fill:none;stroke:#424242;stroke-linecap:square;stroke-width:2.7;\"/>\n   </g>\n   <g id=\"line2d_69\">\n    <path clip-path=\"url(#p01beef44a8)\" d=\"M 0 0 \n\" style=\"fill:none;stroke:#424242;stroke-linecap:square;stroke-width:2.7;\"/>\n   </g>\n   <g id=\"line2d_70\">\n    <path clip-path=\"url(#p01beef44a8)\" d=\"M 0 0 \n\" style=\"fill:none;stroke:#424242;stroke-linecap:square;stroke-width:2.7;\"/>\n   </g>\n   <g id=\"line2d_71\">\n    <path clip-path=\"url(#p01beef44a8)\" d=\"M 0 0 \n\" style=\"fill:none;stroke:#424242;stroke-linecap:square;stroke-width:2.7;\"/>\n   </g>\n   <g id=\"line2d_72\">\n    <path clip-path=\"url(#p01beef44a8)\" d=\"M 0 0 \n\" style=\"fill:none;stroke:#424242;stroke-linecap:square;stroke-width:2.7;\"/>\n   </g>\n   <g id=\"line2d_73\">\n    <path clip-path=\"url(#p01beef44a8)\" d=\"M 0 0 \n\" style=\"fill:none;stroke:#424242;stroke-linecap:square;stroke-width:2.7;\"/>\n   </g>\n   <g id=\"line2d_74\">\n    <path clip-path=\"url(#p01beef44a8)\" d=\"M 0 0 \n\" style=\"fill:none;stroke:#424242;stroke-linecap:square;stroke-width:2.7;\"/>\n   </g>\n   <g id=\"line2d_75\">\n    <path clip-path=\"url(#p01beef44a8)\" d=\"M 0 0 \n\" style=\"fill:none;stroke:#424242;stroke-linecap:square;stroke-width:2.7;\"/>\n   </g>\n   <g id=\"line2d_76\">\n    <path clip-path=\"url(#p01beef44a8)\" d=\"M 0 0 \n\" style=\"fill:none;stroke:#424242;stroke-linecap:square;stroke-width:2.7;\"/>\n   </g>\n   <g id=\"line2d_77\">\n    <path clip-path=\"url(#p01beef44a8)\" d=\"M 0 0 \n\" style=\"fill:none;stroke:#424242;stroke-linecap:square;stroke-width:2.7;\"/>\n   </g>\n   <g id=\"line2d_78\">\n    <path clip-path=\"url(#p01beef44a8)\" d=\"M 0 0 \n\" style=\"fill:none;stroke:#424242;stroke-linecap:square;stroke-width:2.7;\"/>\n   </g>\n   <g id=\"line2d_79\">\n    <path clip-path=\"url(#p01beef44a8)\" d=\"M 0 0 \n\" style=\"fill:none;stroke:#424242;stroke-linecap:square;stroke-width:2.7;\"/>\n   </g>\n   <g id=\"line2d_80\">\n    <path clip-path=\"url(#p01beef44a8)\" d=\"M 0 0 \n\" style=\"fill:none;stroke:#424242;stroke-linecap:square;stroke-width:2.7;\"/>\n   </g>\n   <g id=\"line2d_81\">\n    <path clip-path=\"url(#p01beef44a8)\" d=\"M 0 0 \n\" style=\"fill:none;stroke:#424242;stroke-linecap:square;stroke-width:2.7;\"/>\n   </g>\n   <g id=\"line2d_82\">\n    <path clip-path=\"url(#p01beef44a8)\" d=\"M 0 0 \n\" style=\"fill:none;stroke:#424242;stroke-linecap:square;stroke-width:2.7;\"/>\n   </g>\n   <g id=\"line2d_83\">\n    <path clip-path=\"url(#p01beef44a8)\" d=\"M 0 0 \n\" style=\"fill:none;stroke:#424242;stroke-linecap:square;stroke-width:2.7;\"/>\n   </g>\n   <g id=\"line2d_84\">\n    <path clip-path=\"url(#p01beef44a8)\" d=\"M 0 0 \n\" style=\"fill:none;stroke:#424242;stroke-linecap:square;stroke-width:2.7;\"/>\n   </g>\n   <g id=\"line2d_85\">\n    <path clip-path=\"url(#p01beef44a8)\" d=\"M 0 0 \n\" style=\"fill:none;stroke:#424242;stroke-linecap:square;stroke-width:2.7;\"/>\n   </g>\n   <g id=\"line2d_86\">\n    <path clip-path=\"url(#p01beef44a8)\" d=\"M 0 0 \n\" style=\"fill:none;stroke:#424242;stroke-linecap:square;stroke-width:2.7;\"/>\n   </g>\n   <g id=\"line2d_87\">\n    <path clip-path=\"url(#p01beef44a8)\" d=\"M 0 0 \n\" style=\"fill:none;stroke:#424242;stroke-linecap:square;stroke-width:2.7;\"/>\n   </g>\n   <g id=\"patch_44\">\n    <path d=\"M 82.7175 459.96875 \nL 82.7175 13.27875 \n\" style=\"fill:none;stroke:#000000;stroke-linecap:square;stroke-linejoin:miter;stroke-width:0.8;\"/>\n   </g>\n   <g id=\"patch_45\">\n    <path d=\"M 948.6575 459.96875 \nL 948.6575 13.27875 \n\" style=\"fill:none;stroke:#000000;stroke-linecap:square;stroke-linejoin:miter;stroke-width:0.8;\"/>\n   </g>\n   <g id=\"patch_46\">\n    <path d=\"M 82.7175 459.96875 \nL 948.6575 459.96875 \n\" style=\"fill:none;stroke:#000000;stroke-linecap:square;stroke-linejoin:miter;stroke-width:0.8;\"/>\n   </g>\n   <g id=\"patch_47\">\n    <path d=\"M 82.7175 13.27875 \nL 948.6575 13.27875 \n\" style=\"fill:none;stroke:#000000;stroke-linecap:square;stroke-linejoin:miter;stroke-width:0.8;\"/>\n   </g>\n  </g>\n  <g id=\"axes_2\">\n   <g id=\"matplotlib.axis_3\">\n    <g id=\"ytick_6\">\n     <g id=\"line2d_88\">\n      <defs>\n       <path d=\"M 0 0 \nL 3.5 0 \n\" id=\"mf551001995\" style=\"stroke:#000000;stroke-width:0.8;\"/>\n      </defs>\n      <g>\n       <use style=\"stroke:#000000;stroke-width:0.8;\" x=\"948.6575\" xlink:href=\"#mf551001995\" y=\"459.96875\"/>\n      </g>\n     </g>\n     <g id=\"text_48\">\n      <!-- 0.0 -->\n      <g transform=\"translate(955.6575 466.0475)scale(0.16 -0.16)\">\n       <use xlink:href=\"#DejaVuSans-48\"/>\n       <use x=\"63.623047\" xlink:href=\"#DejaVuSans-46\"/>\n       <use x=\"95.410156\" xlink:href=\"#DejaVuSans-48\"/>\n      </g>\n     </g>\n    </g>\n    <g id=\"ytick_7\">\n     <g id=\"line2d_89\">\n      <g>\n       <use style=\"stroke:#000000;stroke-width:0.8;\" x=\"948.6575\" xlink:href=\"#mf551001995\" y=\"370.63075\"/>\n      </g>\n     </g>\n     <g id=\"text_49\">\n      <!-- 0.2 -->\n      <g transform=\"translate(955.6575 376.7095)scale(0.16 -0.16)\">\n       <use xlink:href=\"#DejaVuSans-48\"/>\n       <use x=\"63.623047\" xlink:href=\"#DejaVuSans-46\"/>\n       <use x=\"95.410156\" xlink:href=\"#DejaVuSans-50\"/>\n      </g>\n     </g>\n    </g>\n    <g id=\"ytick_8\">\n     <g id=\"line2d_90\">\n      <g>\n       <use style=\"stroke:#000000;stroke-width:0.8;\" x=\"948.6575\" xlink:href=\"#mf551001995\" y=\"281.29275\"/>\n      </g>\n     </g>\n     <g id=\"text_50\">\n      <!-- 0.4 -->\n      <defs>\n       <path d=\"M 37.796875 64.3125 \nL 12.890625 25.390625 \nL 37.796875 25.390625 \nz\nM 35.203125 72.90625 \nL 47.609375 72.90625 \nL 47.609375 25.390625 \nL 58.015625 25.390625 \nL 58.015625 17.1875 \nL 47.609375 17.1875 \nL 47.609375 0 \nL 37.796875 0 \nL 37.796875 17.1875 \nL 4.890625 17.1875 \nL 4.890625 26.703125 \nz\n\" id=\"DejaVuSans-52\"/>\n      </defs>\n      <g transform=\"translate(955.6575 287.3715)scale(0.16 -0.16)\">\n       <use xlink:href=\"#DejaVuSans-48\"/>\n       <use x=\"63.623047\" xlink:href=\"#DejaVuSans-46\"/>\n       <use x=\"95.410156\" xlink:href=\"#DejaVuSans-52\"/>\n      </g>\n     </g>\n    </g>\n    <g id=\"ytick_9\">\n     <g id=\"line2d_91\">\n      <g>\n       <use style=\"stroke:#000000;stroke-width:0.8;\" x=\"948.6575\" xlink:href=\"#mf551001995\" y=\"191.95475\"/>\n      </g>\n     </g>\n     <g id=\"text_51\">\n      <!-- 0.6 -->\n      <defs>\n       <path d=\"M 33.015625 40.375 \nQ 26.375 40.375 22.484375 35.828125 \nQ 18.609375 31.296875 18.609375 23.390625 \nQ 18.609375 15.53125 22.484375 10.953125 \nQ 26.375 6.390625 33.015625 6.390625 \nQ 39.65625 6.390625 43.53125 10.953125 \nQ 47.40625 15.53125 47.40625 23.390625 \nQ 47.40625 31.296875 43.53125 35.828125 \nQ 39.65625 40.375 33.015625 40.375 \nz\nM 52.59375 71.296875 \nL 52.59375 62.3125 \nQ 48.875 64.0625 45.09375 64.984375 \nQ 41.3125 65.921875 37.59375 65.921875 \nQ 27.828125 65.921875 22.671875 59.328125 \nQ 17.53125 52.734375 16.796875 39.40625 \nQ 19.671875 43.65625 24.015625 45.921875 \nQ 28.375 48.1875 33.59375 48.1875 \nQ 44.578125 48.1875 50.953125 41.515625 \nQ 57.328125 34.859375 57.328125 23.390625 \nQ 57.328125 12.15625 50.6875 5.359375 \nQ 44.046875 -1.421875 33.015625 -1.421875 \nQ 20.359375 -1.421875 13.671875 8.265625 \nQ 6.984375 17.96875 6.984375 36.375 \nQ 6.984375 53.65625 15.1875 63.9375 \nQ 23.390625 74.21875 37.203125 74.21875 \nQ 40.921875 74.21875 44.703125 73.484375 \nQ 48.484375 72.75 52.59375 71.296875 \nz\n\" id=\"DejaVuSans-54\"/>\n      </defs>\n      <g transform=\"translate(955.6575 198.0335)scale(0.16 -0.16)\">\n       <use xlink:href=\"#DejaVuSans-48\"/>\n       <use x=\"63.623047\" xlink:href=\"#DejaVuSans-46\"/>\n       <use x=\"95.410156\" xlink:href=\"#DejaVuSans-54\"/>\n      </g>\n     </g>\n    </g>\n    <g id=\"ytick_10\">\n     <g id=\"line2d_92\">\n      <g>\n       <use style=\"stroke:#000000;stroke-width:0.8;\" x=\"948.6575\" xlink:href=\"#mf551001995\" y=\"102.61675\"/>\n      </g>\n     </g>\n     <g id=\"text_52\">\n      <!-- 0.8 -->\n      <defs>\n       <path d=\"M 31.78125 34.625 \nQ 24.75 34.625 20.71875 30.859375 \nQ 16.703125 27.09375 16.703125 20.515625 \nQ 16.703125 13.921875 20.71875 10.15625 \nQ 24.75 6.390625 31.78125 6.390625 \nQ 38.8125 6.390625 42.859375 10.171875 \nQ 46.921875 13.96875 46.921875 20.515625 \nQ 46.921875 27.09375 42.890625 30.859375 \nQ 38.875 34.625 31.78125 34.625 \nz\nM 21.921875 38.8125 \nQ 15.578125 40.375 12.03125 44.71875 \nQ 8.5 49.078125 8.5 55.328125 \nQ 8.5 64.0625 14.71875 69.140625 \nQ 20.953125 74.21875 31.78125 74.21875 \nQ 42.671875 74.21875 48.875 69.140625 \nQ 55.078125 64.0625 55.078125 55.328125 \nQ 55.078125 49.078125 51.53125 44.71875 \nQ 48 40.375 41.703125 38.8125 \nQ 48.828125 37.15625 52.796875 32.3125 \nQ 56.78125 27.484375 56.78125 20.515625 \nQ 56.78125 9.90625 50.3125 4.234375 \nQ 43.84375 -1.421875 31.78125 -1.421875 \nQ 19.734375 -1.421875 13.25 4.234375 \nQ 6.78125 9.90625 6.78125 20.515625 \nQ 6.78125 27.484375 10.78125 32.3125 \nQ 14.796875 37.15625 21.921875 38.8125 \nz\nM 18.3125 54.390625 \nQ 18.3125 48.734375 21.84375 45.5625 \nQ 25.390625 42.390625 31.78125 42.390625 \nQ 38.140625 42.390625 41.71875 45.5625 \nQ 45.3125 48.734375 45.3125 54.390625 \nQ 45.3125 60.0625 41.71875 63.234375 \nQ 38.140625 66.40625 31.78125 66.40625 \nQ 25.390625 66.40625 21.84375 63.234375 \nQ 18.3125 60.0625 18.3125 54.390625 \nz\n\" id=\"DejaVuSans-56\"/>\n      </defs>\n      <g transform=\"translate(955.6575 108.6955)scale(0.16 -0.16)\">\n       <use xlink:href=\"#DejaVuSans-48\"/>\n       <use x=\"63.623047\" xlink:href=\"#DejaVuSans-46\"/>\n       <use x=\"95.410156\" xlink:href=\"#DejaVuSans-56\"/>\n      </g>\n     </g>\n    </g>\n    <g id=\"ytick_11\">\n     <g id=\"line2d_93\">\n      <g>\n       <use style=\"stroke:#000000;stroke-width:0.8;\" x=\"948.6575\" xlink:href=\"#mf551001995\" y=\"13.27875\"/>\n      </g>\n     </g>\n     <g id=\"text_53\">\n      <!-- 1.0 -->\n      <g transform=\"translate(955.6575 19.3575)scale(0.16 -0.16)\">\n       <use xlink:href=\"#DejaVuSans-49\"/>\n       <use x=\"63.623047\" xlink:href=\"#DejaVuSans-46\"/>\n       <use x=\"95.410156\" xlink:href=\"#DejaVuSans-48\"/>\n      </g>\n     </g>\n    </g>\n   </g>\n   <g id=\"patch_48\">\n    <path d=\"M 82.7175 459.96875 \nL 82.7175 13.27875 \n\" style=\"fill:none;stroke:#000000;stroke-linecap:square;stroke-linejoin:miter;stroke-width:0.8;\"/>\n   </g>\n   <g id=\"patch_49\">\n    <path d=\"M 948.6575 459.96875 \nL 948.6575 13.27875 \n\" style=\"fill:none;stroke:#000000;stroke-linecap:square;stroke-linejoin:miter;stroke-width:0.8;\"/>\n   </g>\n   <g id=\"patch_50\">\n    <path d=\"M 82.7175 459.96875 \nL 948.6575 459.96875 \n\" style=\"fill:none;stroke:#000000;stroke-linecap:square;stroke-linejoin:miter;stroke-width:0.8;\"/>\n   </g>\n   <g id=\"patch_51\">\n    <path d=\"M 82.7175 13.27875 \nL 948.6575 13.27875 \n\" style=\"fill:none;stroke:#000000;stroke-linecap:square;stroke-linejoin:miter;stroke-width:0.8;\"/>\n   </g>\n  </g>\n  <g id=\"axes_3\">\n   <g id=\"line2d_94\">\n    <path clip-path=\"url(#p01beef44a8)\" d=\"M 122.078409 190.599752 \nL 142.263491 193.670444 \nL 162.448572 197.303988 \nL 182.633654 200.680735 \nL 202.818735 203.795232 \nL 223.003817 204.464636 \nL 243.188899 206.963154 \nL 263.37398 207.891211 \nL 283.559062 207.276933 \nL 303.744143 206.788135 \nL 323.929225 206.651027 \nL 344.114307 206.38558 \nL 364.299388 202.421178 \nL 384.48447 199.66684 \nL 404.669551 198.265217 \nL 424.854633 200.354597 \nL 445.039714 203.688078 \nL 465.224796 205.657526 \nL 485.409878 195.70296 \nL 505.594959 180.940413 \nL 525.780041 170.477985 \nL 545.965122 165.099766 \nL 566.150204 160.433136 \nL 586.335286 161.669474 \nL 606.520367 157.55715 \nL 626.705449 153.772971 \nL 646.89053 148.27741 \nL 667.075612 140.312179 \nL 687.260693 124.786454 \nL 707.445775 109.302564 \nL 727.630857 106.854338 \nL 747.815938 116.396874 \nL 768.00102 130.620885 \nL 788.186101 138.926671 \nL 808.371183 144.041659 \nL 828.556265 136.544529 \nL 848.741346 129.444123 \nL 868.926428 122.757921 \nL 889.111509 124.808983 \nL 909.296591 119.855172 \n\" style=\"fill:none;stroke:#253494;stroke-linecap:square;stroke-width:3;\"/>\n   </g>\n   <g id=\"line2d_95\">\n    <path clip-path=\"url(#p01beef44a8)\" d=\"M 122.078409 190.216919 \nL 142.263491 192.935642 \nL 162.448572 196.41968 \nL 182.633654 201.178787 \nL 202.818735 203.806738 \nL 223.003817 204.452076 \nL 243.188899 207.829554 \nL 263.37398 206.44928 \nL 283.559062 204.135941 \nL 303.744143 204.438543 \nL 323.929225 203.528178 \nL 344.114307 200.738329 \nL 364.299388 199.157882 \nL 384.48447 193.620044 \nL 404.669551 186.758506 \nL 424.854633 188.356306 \nL 445.039714 198.718374 \nL 465.224796 204.408219 \nL 485.409878 197.527776 \nL 505.594959 188.264888 \nL 525.780041 181.944648 \nL 545.965122 176.92507 \nL 566.150204 169.832624 \nL 586.335286 170.848852 \nL 606.520367 165.799244 \nL 626.705449 161.370925 \nL 646.89053 156.124185 \nL 667.075612 152.233721 \nL 687.260693 148.499654 \nL 707.445775 140.254962 \nL 727.630857 134.865181 \nL 747.815938 143.128901 \nL 768.00102 151.033879 \nL 788.186101 160.255484 \nL 808.371183 164.348913 \nL 828.556265 160.641722 \nL 848.741346 156.160211 \nL 868.926428 150.843931 \nL 889.111509 148.09287 \nL 909.296591 145.41854 \n\" style=\"fill:none;stroke:#225ea8;stroke-linecap:square;stroke-width:3;\"/>\n   </g>\n   <g id=\"line2d_96\">\n    <path clip-path=\"url(#p01beef44a8)\" d=\"M 122.078409 188.512166 \nL 142.263491 188.046308 \nL 162.448572 187.580827 \nL 182.633654 187.117215 \nL 202.818735 186.655215 \nL 223.003817 186.195008 \nL 243.188899 185.736663 \nL 263.37398 185.280275 \nL 283.559062 184.825929 \nL 303.744143 184.373714 \nL 323.929225 183.923715 \nL 344.114307 183.476015 \nL 364.299388 183.030696 \nL 384.48447 182.587839 \nL 404.669551 182.147522 \nL 424.854633 181.709823 \nL 445.039714 181.274817 \nL 465.224796 180.842579 \nL 485.409878 180.413179 \nL 505.594959 179.98669 \nL 525.780041 179.563178 \nL 545.965122 179.142712 \nL 566.150204 178.725355 \nL 586.335286 178.311172 \nL 606.520367 177.900224 \nL 626.705449 177.492569 \nL 646.89053 177.088267 \nL 667.075612 176.687372 \nL 687.260693 176.28994 \nL 707.445775 175.896021 \nL 727.630857 175.505667 \nL 747.815938 175.118925 \nL 768.00102 174.735843 \nL 788.186101 174.356465 \nL 808.371183 173.980834 \nL 828.556265 173.608991 \nL 848.741346 173.240975 \nL 868.926428 172.876824 \nL 889.111509 172.516573 \nL 909.296591 172.160255 \n\" style=\"fill:none;stroke:#1d91c0;stroke-linecap:square;stroke-width:3;\"/>\n   </g>\n   <g id=\"line2d_97\">\n    <path clip-path=\"url(#p01beef44a8)\" d=\"M 122.078409 189.677552 \nL 142.263491 190.215517 \nL 162.448572 190.344483 \nL 182.633654 189.992925 \nL 202.818735 190.873927 \nL 223.003817 190.623565 \nL 243.188899 189.946333 \nL 263.37398 191.257928 \nL 283.559062 190.941436 \nL 303.744143 191.421957 \nL 323.929225 191.462952 \nL 344.114307 191.583281 \nL 364.299388 191.474498 \nL 384.48447 191.933906 \nL 404.669551 192.256194 \nL 424.854633 192.087172 \nL 445.039714 191.728402 \nL 465.224796 191.662639 \nL 485.409878 186.08237 \nL 505.594959 192.20931 \nL 525.780041 192.755661 \nL 545.965122 192.482467 \nL 566.150204 192.7121 \nL 586.335286 192.684192 \nL 606.520367 193.065223 \nL 626.705449 192.887976 \nL 646.89053 192.682533 \nL 667.075612 193.051145 \nL 687.260693 193.223563 \nL 707.445775 193.730408 \nL 727.630857 199.902975 \nL 747.815938 194.985373 \nL 768.00102 194.832005 \nL 788.186101 194.994885 \nL 808.371183 194.858097 \nL 828.556265 195.433499 \nL 848.741346 195.660918 \nL 868.926428 195.602009 \nL 889.111509 195.844522 \nL 909.296591 196.388711 \n\" style=\"fill:none;stroke:#42b6c4;stroke-linecap:square;stroke-width:3;\"/>\n   </g>\n   <g id=\"line2d_98\">\n    <path clip-path=\"url(#p01beef44a8)\" d=\"M 122.078409 191.737902 \nL 142.263491 193.311028 \nL 162.448572 193.935859 \nL 182.633654 196.52502 \nL 202.818735 202.737511 \nL 223.003817 208.252051 \nL 243.188899 212.676616 \nL 263.37398 215.191919 \nL 283.559062 214.753896 \nL 303.744143 215.579829 \nL 323.929225 214.409548 \nL 344.114307 215.445952 \nL 364.299388 214.291581 \nL 384.48447 212.96205 \nL 404.669551 210.151183 \nL 424.854633 211.49192 \nL 445.039714 213.407075 \nL 465.224796 217.40301 \nL 485.409878 219.181657 \nL 505.594959 218.36635 \nL 525.780041 216.144388 \nL 545.965122 215.043891 \nL 566.150204 212.526016 \nL 586.335286 209.622298 \nL 606.520367 207.4064 \nL 626.705449 205.223584 \nL 646.89053 205.290688 \nL 667.075612 205.459788 \nL 687.260693 207.31337 \nL 707.445775 208.961096 \nL 727.630857 211.105465 \nL 747.815938 211.72652 \nL 768.00102 210.861361 \nL 788.186101 209.18675 \nL 808.371183 207.16262 \nL 828.556265 206.065521 \nL 848.741346 202.382989 \nL 868.926428 199.454071 \nL 889.111509 197.371492 \nL 909.296591 199.377597 \n\" style=\"fill:none;stroke:#80cebb;stroke-linecap:square;stroke-width:3;\"/>\n   </g>\n   <g id=\"line2d_99\">\n    <path clip-path=\"url(#p01beef44a8)\" d=\"M 122.078409 190.852361 \nL 142.263491 193.267104 \nL 162.448572 194.041748 \nL 182.633654 197.791791 \nL 202.818735 201.656781 \nL 223.003817 205.057311 \nL 243.188899 207.642005 \nL 263.37398 208.016928 \nL 283.559062 208.293219 \nL 303.744143 207.722829 \nL 323.929225 207.034302 \nL 344.114307 208.557854 \nL 364.299388 208.479196 \nL 384.48447 210.717313 \nL 404.669551 211.235641 \nL 424.854633 214.731945 \nL 445.039714 218.439178 \nL 465.224796 221.789319 \nL 485.409878 224.268294 \nL 505.594959 224.558441 \nL 525.780041 224.714923 \nL 545.965122 224.125311 \nL 566.150204 223.424722 \nL 586.335286 224.920025 \nL 606.520367 224.771646 \nL 626.705449 226.92588 \nL 646.89053 227.374859 \nL 667.075612 230.835657 \nL 687.260693 234.497381 \nL 707.445775 237.835392 \nL 727.630857 240.276984 \nL 747.815938 240.57759 \nL 768.00102 240.729892 \nL 788.186101 240.172033 \nL 808.371183 239.466305 \nL 828.556265 240.982789 \nL 848.741346 240.821843 \nL 868.926428 243.014524 \nL 889.111509 243.473955 \nL 909.296591 247.009011 \n\" style=\"fill:none;stroke:#c8e9b4;stroke-linecap:square;stroke-width:3;\"/>\n   </g>\n   <g id=\"line2d_100\">\n    <path clip-path=\"url(#p01beef44a8)\" d=\"M 122.078409 187.650843 \nL 142.263491 193.948126 \nL 162.448572 197.987147 \nL 182.633654 203.117895 \nL 202.818735 211.844103 \nL 223.003817 211.293561 \nL 243.188899 218.399634 \nL 263.37398 222.687777 \nL 283.559062 228.278141 \nL 303.744143 225.903674 \nL 323.929225 226.966816 \nL 344.114307 229.867288 \nL 364.299388 224.575411 \nL 384.48447 234.913764 \nL 404.669551 239.062134 \nL 424.854633 245.921724 \nL 445.039714 254.937971 \nL 465.224796 254.005507 \nL 485.409878 243.466244 \nL 505.594959 269.268393 \nL 525.780041 281.401901 \nL 545.965122 277.338382 \nL 566.150204 281.989692 \nL 586.335286 286.134949 \nL 606.520367 280.380278 \nL 626.705449 290.535548 \nL 646.89053 302.75781 \nL 667.075612 315.836504 \nL 687.260693 328.832946 \nL 707.445775 323.734986 \nL 727.630857 364.2082 \nL 747.815938 354.51083 \nL 768.00102 375.720445 \nL 788.186101 372.49562 \nL 808.371183 381.214176 \nL 828.556265 389.114074 \nL 848.741346 384.764807 \nL 868.926428 397.850983 \nL 889.111509 419.592654 \nL 909.296591 439.664659 \n\" style=\"fill:none;stroke:#edf8b2;stroke-linecap:square;stroke-width:3;\"/>\n   </g>\n   <g id=\"line2d_101\"/>\n   <g id=\"line2d_102\"/>\n   <g id=\"line2d_103\"/>\n   <g id=\"line2d_104\"/>\n   <g id=\"line2d_105\"/>\n   <g id=\"line2d_106\"/>\n   <g id=\"line2d_107\"/>\n   <g id=\"legend_1\">\n    <g id=\"patch_52\">\n     <path d=\"M 95.9175 122.01875 \nL 412.185 122.01875 \nQ 415.385 122.01875 415.385 118.81875 \nL 415.385 26.47875 \nQ 415.385 23.27875 412.185 23.27875 \nL 95.9175 23.27875 \nQ 92.7175 23.27875 92.7175 26.47875 \nL 92.7175 118.81875 \nQ 92.7175 122.01875 95.9175 122.01875 \nz\n\" style=\"fill:#4c4c4c;opacity:0.5;stroke:#4c4c4c;stroke-linejoin:miter;\"/>\n    </g>\n    <g id=\"patch_53\">\n     <path d=\"M 93.9175 120.01875 \nL 410.185 120.01875 \nQ 413.385 120.01875 413.385 116.81875 \nL 413.385 24.47875 \nQ 413.385 21.27875 410.185 21.27875 \nL 93.9175 21.27875 \nQ 90.7175 21.27875 90.7175 24.47875 \nL 90.7175 116.81875 \nQ 90.7175 120.01875 93.9175 120.01875 \nz\n\" style=\"fill:#ffffff;stroke:#cccccc;stroke-linejoin:miter;\"/>\n    </g>\n    <g id=\"line2d_108\">\n     <path d=\"M 97.1175 34.23625 \nL 129.1175 34.23625 \n\" style=\"fill:none;stroke:#253494;stroke-linecap:square;stroke-width:1.5;\"/>\n    </g>\n    <g id=\"line2d_109\"/>\n    <g id=\"text_54\">\n     <!-- LSTM -->\n     <g transform=\"translate(141.9175 39.83625)scale(0.16 -0.16)\">\n      <use xlink:href=\"#DejaVuSans-76\"/>\n      <use x=\"55.712891\" xlink:href=\"#DejaVuSans-83\"/>\n      <use x=\"119.189453\" xlink:href=\"#DejaVuSans-84\"/>\n      <use x=\"180.273438\" xlink:href=\"#DejaVuSans-77\"/>\n     </g>\n    </g>\n    <g id=\"line2d_110\">\n     <path d=\"M 97.1175 57.72125 \nL 129.1175 57.72125 \n\" style=\"fill:none;stroke:#225ea8;stroke-linecap:square;stroke-width:1.5;\"/>\n    </g>\n    <g id=\"line2d_111\"/>\n    <g id=\"text_55\">\n     <!-- RandomForest -->\n     <defs>\n      <path d=\"M 45.40625 46.390625 \nL 45.40625 75.984375 \nL 54.390625 75.984375 \nL 54.390625 0 \nL 45.40625 0 \nL 45.40625 8.203125 \nQ 42.578125 3.328125 38.25 0.953125 \nQ 33.9375 -1.421875 27.875 -1.421875 \nQ 17.96875 -1.421875 11.734375 6.484375 \nQ 5.515625 14.40625 5.515625 27.296875 \nQ 5.515625 40.1875 11.734375 48.09375 \nQ 17.96875 56 27.875 56 \nQ 33.9375 56 38.25 53.625 \nQ 42.578125 51.265625 45.40625 46.390625 \nz\nM 14.796875 27.296875 \nQ 14.796875 17.390625 18.875 11.75 \nQ 22.953125 6.109375 30.078125 6.109375 \nQ 37.203125 6.109375 41.296875 11.75 \nQ 45.40625 17.390625 45.40625 27.296875 \nQ 45.40625 37.203125 41.296875 42.84375 \nQ 37.203125 48.484375 30.078125 48.484375 \nQ 22.953125 48.484375 18.875 42.84375 \nQ 14.796875 37.203125 14.796875 27.296875 \nz\n\" id=\"DejaVuSans-100\"/>\n     </defs>\n     <g transform=\"translate(141.9175 63.32125)scale(0.16 -0.16)\">\n      <use xlink:href=\"#DejaVuSans-82\"/>\n      <use x=\"67.232422\" xlink:href=\"#DejaVuSans-97\"/>\n      <use x=\"128.511719\" xlink:href=\"#DejaVuSans-110\"/>\n      <use x=\"191.890625\" xlink:href=\"#DejaVuSans-100\"/>\n      <use x=\"255.367188\" xlink:href=\"#DejaVuSans-111\"/>\n      <use x=\"316.548828\" xlink:href=\"#DejaVuSans-109\"/>\n      <use x=\"413.960938\" xlink:href=\"#DejaVuSans-70\"/>\n      <use x=\"467.855469\" xlink:href=\"#DejaVuSans-111\"/>\n      <use x=\"529.037109\" xlink:href=\"#DejaVuSans-114\"/>\n      <use x=\"567.900391\" xlink:href=\"#DejaVuSans-101\"/>\n      <use x=\"629.423828\" xlink:href=\"#DejaVuSans-115\"/>\n      <use x=\"681.523438\" xlink:href=\"#DejaVuSans-116\"/>\n     </g>\n    </g>\n    <g id=\"line2d_112\">\n     <path d=\"M 97.1175 81.20625 \nL 129.1175 81.20625 \n\" style=\"fill:none;stroke:#1d91c0;stroke-linecap:square;stroke-width:1.5;\"/>\n    </g>\n    <g id=\"line2d_113\"/>\n    <g id=\"text_56\">\n     <!-- ARIMA -->\n     <defs>\n      <path d=\"M 9.8125 72.90625 \nL 19.671875 72.90625 \nL 19.671875 0 \nL 9.8125 0 \nz\n\" id=\"DejaVuSans-73\"/>\n     </defs>\n     <g transform=\"translate(141.9175 86.80625)scale(0.16 -0.16)\">\n      <use xlink:href=\"#DejaVuSans-65\"/>\n      <use x=\"68.408203\" xlink:href=\"#DejaVuSans-82\"/>\n      <use x=\"137.890625\" xlink:href=\"#DejaVuSans-73\"/>\n      <use x=\"167.382812\" xlink:href=\"#DejaVuSans-77\"/>\n      <use x=\"253.662109\" xlink:href=\"#DejaVuSans-65\"/>\n     </g>\n    </g>\n    <g id=\"line2d_114\">\n     <path d=\"M 97.1175 104.69125 \nL 129.1175 104.69125 \n\" style=\"fill:none;stroke:#42b6c4;stroke-linecap:square;stroke-width:1.5;\"/>\n    </g>\n    <g id=\"line2d_115\"/>\n    <g id=\"text_57\">\n     <!-- ARIMAX -->\n     <defs>\n      <path d=\"M 6.296875 72.90625 \nL 16.890625 72.90625 \nL 35.015625 45.796875 \nL 53.21875 72.90625 \nL 63.8125 72.90625 \nL 40.375 37.890625 \nL 65.375 0 \nL 54.78125 0 \nL 34.28125 31 \nL 13.625 0 \nL 2.984375 0 \nL 29 38.921875 \nz\n\" id=\"DejaVuSans-88\"/>\n     </defs>\n     <g transform=\"translate(141.9175 110.29125)scale(0.16 -0.16)\">\n      <use xlink:href=\"#DejaVuSans-65\"/>\n      <use x=\"68.408203\" xlink:href=\"#DejaVuSans-82\"/>\n      <use x=\"137.890625\" xlink:href=\"#DejaVuSans-73\"/>\n      <use x=\"167.382812\" xlink:href=\"#DejaVuSans-77\"/>\n      <use x=\"253.662109\" xlink:href=\"#DejaVuSans-65\"/>\n      <use x=\"322.070312\" xlink:href=\"#DejaVuSans-88\"/>\n     </g>\n    </g>\n    <g id=\"line2d_116\">\n     <path d=\"M 289.235 34.23625 \nL 321.235 34.23625 \n\" style=\"fill:none;stroke:#80cebb;stroke-linecap:square;stroke-width:1.5;\"/>\n    </g>\n    <g id=\"line2d_117\"/>\n    <g id=\"text_58\">\n     <!-- Prophet -->\n     <defs>\n      <path d=\"M 18.109375 8.203125 \nL 18.109375 -20.796875 \nL 9.078125 -20.796875 \nL 9.078125 54.6875 \nL 18.109375 54.6875 \nL 18.109375 46.390625 \nQ 20.953125 51.265625 25.265625 53.625 \nQ 29.59375 56 35.59375 56 \nQ 45.5625 56 51.78125 48.09375 \nQ 58.015625 40.1875 58.015625 27.296875 \nQ 58.015625 14.40625 51.78125 6.484375 \nQ 45.5625 -1.421875 35.59375 -1.421875 \nQ 29.59375 -1.421875 25.265625 0.953125 \nQ 20.953125 3.328125 18.109375 8.203125 \nz\nM 48.6875 27.296875 \nQ 48.6875 37.203125 44.609375 42.84375 \nQ 40.53125 48.484375 33.40625 48.484375 \nQ 26.265625 48.484375 22.1875 42.84375 \nQ 18.109375 37.203125 18.109375 27.296875 \nQ 18.109375 17.390625 22.1875 11.75 \nQ 26.265625 6.109375 33.40625 6.109375 \nQ 40.53125 6.109375 44.609375 11.75 \nQ 48.6875 17.390625 48.6875 27.296875 \nz\n\" id=\"DejaVuSans-112\"/>\n     </defs>\n     <g transform=\"translate(334.035 39.83625)scale(0.16 -0.16)\">\n      <use xlink:href=\"#DejaVuSans-80\"/>\n      <use x=\"58.552734\" xlink:href=\"#DejaVuSans-114\"/>\n      <use x=\"97.416016\" xlink:href=\"#DejaVuSans-111\"/>\n      <use x=\"158.597656\" xlink:href=\"#DejaVuSans-112\"/>\n      <use x=\"222.074219\" xlink:href=\"#DejaVuSans-104\"/>\n      <use x=\"285.453125\" xlink:href=\"#DejaVuSans-101\"/>\n      <use x=\"346.976562\" xlink:href=\"#DejaVuSans-116\"/>\n     </g>\n    </g>\n    <g id=\"line2d_118\">\n     <path d=\"M 289.235 57.72125 \nL 321.235 57.72125 \n\" style=\"fill:none;stroke:#c8e9b4;stroke-linecap:square;stroke-width:1.5;\"/>\n    </g>\n    <g id=\"line2d_119\"/>\n    <g id=\"text_59\">\n     <!-- SARIMA -->\n     <g transform=\"translate(334.035 63.32125)scale(0.16 -0.16)\">\n      <use xlink:href=\"#DejaVuSans-83\"/>\n      <use x=\"65.351562\" xlink:href=\"#DejaVuSans-65\"/>\n      <use x=\"133.759766\" xlink:href=\"#DejaVuSans-82\"/>\n      <use x=\"203.242188\" xlink:href=\"#DejaVuSans-73\"/>\n      <use x=\"232.734375\" xlink:href=\"#DejaVuSans-77\"/>\n      <use x=\"319.013672\" xlink:href=\"#DejaVuSans-65\"/>\n     </g>\n    </g>\n    <g id=\"line2d_120\">\n     <path d=\"M 289.235 81.20625 \nL 321.235 81.20625 \n\" style=\"fill:none;stroke:#edf8b2;stroke-linecap:square;stroke-width:1.5;\"/>\n    </g>\n    <g id=\"line2d_121\"/>\n    <g id=\"text_60\">\n     <!-- SARIMAX -->\n     <g transform=\"translate(334.035 86.80625)scale(0.16 -0.16)\">\n      <use xlink:href=\"#DejaVuSans-83\"/>\n      <use x=\"65.351562\" xlink:href=\"#DejaVuSans-65\"/>\n      <use x=\"133.759766\" xlink:href=\"#DejaVuSans-82\"/>\n      <use x=\"203.242188\" xlink:href=\"#DejaVuSans-73\"/>\n      <use x=\"232.734375\" xlink:href=\"#DejaVuSans-77\"/>\n      <use x=\"319.013672\" xlink:href=\"#DejaVuSans-65\"/>\n      <use x=\"387.421875\" xlink:href=\"#DejaVuSans-88\"/>\n     </g>\n    </g>\n   </g>\n  </g>\n </g>\n <defs>\n  <clipPath id=\"p01beef44a8\">\n   <rect height=\"446.69\" width=\"865.94\" x=\"82.7175\" y=\"13.27875\"/>\n  </clipPath>\n </defs>\n</svg>\n",
            "application/pdf": "[encoded data removed]"
          },
          "metadata": {
            "needs_background": "light"
          }
        }
      ]
    },
    {
      "cell_type": "markdown",
      "source": [
        "LSTM has the best performance reaching about 96.4% accuracy in predicting housing prices during COVID. Our seasonality models perform poorly, most likely because we corrected for any seasonality trends during our EDA so they are modeling weak or non-exisiting trends. "
      ],
      "metadata": {
        "id": "ENkCK4U4gR4d"
      }
    },
    {
      "cell_type": "markdown",
      "metadata": {
        "id": "re8uQ6V9g_2t"
      },
      "source": [
        "## Accuracy metrics "
      ]
    },
    {
      "cell_type": "code",
      "execution_count": 42,
      "metadata": {
        "id": "YtmQOqiDg68G",
        "colab": {
          "base_uri": "https://localhost:8080/",
          "height": 269
        },
        "outputId": "733c51fd-48c5-447b-f78c-26b1978693ef"
      },
      "outputs": [
        {
          "output_type": "execute_result",
          "data": {
            "text/plain": [
              "           Model  R_squared        MAE   MAPE           MSE       RMSE  RMSLE\n",
              "0          ARIMA      0.632  12721.539  0.041  3.967014e+08  19917.365  0.064\n",
              "1         ARIMAX      0.366  16147.179  0.051  6.837701e+08  26148.997  0.086\n",
              "2         SARIMA     -0.513  25684.065  0.082  1.631801e+09  40395.560  0.140\n",
              "3        SARIMAX     -2.757  41678.398  0.134  4.053508e+09  63667.168  0.241\n",
              "4           LSTM      0.728  11324.198  0.036  2.930570e+08  17118.909  0.056\n",
              "5        Prophet     -0.191  23436.644  0.075  1.285031e+09  35847.334  0.123\n",
              "6  Random Forest      0.615  12813.605  0.041  4.149236e+08  20369.673  0.066"
            ],
            "text/html": [
              "\n",
              "  <div id=\"df-ef752894-b3bf-481b-9717-a7f9d1a27eb7\">\n",
              "    <div class=\"colab-df-container\">\n",
              "      <div>\n",
              "<style scoped>\n",
              "    .dataframe tbody tr th:only-of-type {\n",
              "        vertical-align: middle;\n",
              "    }\n",
              "\n",
              "    .dataframe tbody tr th {\n",
              "        vertical-align: top;\n",
              "    }\n",
              "\n",
              "    .dataframe thead th {\n",
              "        text-align: right;\n",
              "    }\n",
              "</style>\n",
              "<table border=\"1\" class=\"dataframe\">\n",
              "  <thead>\n",
              "    <tr style=\"text-align: right;\">\n",
              "      <th></th>\n",
              "      <th>Model</th>\n",
              "      <th>R_squared</th>\n",
              "      <th>MAE</th>\n",
              "      <th>MAPE</th>\n",
              "      <th>MSE</th>\n",
              "      <th>RMSE</th>\n",
              "      <th>RMSLE</th>\n",
              "    </tr>\n",
              "  </thead>\n",
              "  <tbody>\n",
              "    <tr>\n",
              "      <th>0</th>\n",
              "      <td>ARIMA</td>\n",
              "      <td>0.632</td>\n",
              "      <td>12721.539</td>\n",
              "      <td>0.041</td>\n",
              "      <td>3.967014e+08</td>\n",
              "      <td>19917.365</td>\n",
              "      <td>0.064</td>\n",
              "    </tr>\n",
              "    <tr>\n",
              "      <th>1</th>\n",
              "      <td>ARIMAX</td>\n",
              "      <td>0.366</td>\n",
              "      <td>16147.179</td>\n",
              "      <td>0.051</td>\n",
              "      <td>6.837701e+08</td>\n",
              "      <td>26148.997</td>\n",
              "      <td>0.086</td>\n",
              "    </tr>\n",
              "    <tr>\n",
              "      <th>2</th>\n",
              "      <td>SARIMA</td>\n",
              "      <td>-0.513</td>\n",
              "      <td>25684.065</td>\n",
              "      <td>0.082</td>\n",
              "      <td>1.631801e+09</td>\n",
              "      <td>40395.560</td>\n",
              "      <td>0.140</td>\n",
              "    </tr>\n",
              "    <tr>\n",
              "      <th>3</th>\n",
              "      <td>SARIMAX</td>\n",
              "      <td>-2.757</td>\n",
              "      <td>41678.398</td>\n",
              "      <td>0.134</td>\n",
              "      <td>4.053508e+09</td>\n",
              "      <td>63667.168</td>\n",
              "      <td>0.241</td>\n",
              "    </tr>\n",
              "    <tr>\n",
              "      <th>4</th>\n",
              "      <td>LSTM</td>\n",
              "      <td>0.728</td>\n",
              "      <td>11324.198</td>\n",
              "      <td>0.036</td>\n",
              "      <td>2.930570e+08</td>\n",
              "      <td>17118.909</td>\n",
              "      <td>0.056</td>\n",
              "    </tr>\n",
              "    <tr>\n",
              "      <th>5</th>\n",
              "      <td>Prophet</td>\n",
              "      <td>-0.191</td>\n",
              "      <td>23436.644</td>\n",
              "      <td>0.075</td>\n",
              "      <td>1.285031e+09</td>\n",
              "      <td>35847.334</td>\n",
              "      <td>0.123</td>\n",
              "    </tr>\n",
              "    <tr>\n",
              "      <th>6</th>\n",
              "      <td>Random Forest</td>\n",
              "      <td>0.615</td>\n",
              "      <td>12813.605</td>\n",
              "      <td>0.041</td>\n",
              "      <td>4.149236e+08</td>\n",
              "      <td>20369.673</td>\n",
              "      <td>0.066</td>\n",
              "    </tr>\n",
              "  </tbody>\n",
              "</table>\n",
              "</div>\n",
              "      <button class=\"colab-df-convert\" onclick=\"convertToInteractive('df-ef752894-b3bf-481b-9717-a7f9d1a27eb7')\"\n",
              "              title=\"Convert this dataframe to an interactive table.\"\n",
              "              style=\"display:none;\">\n",
              "        \n",
              "  <svg xmlns=\"http://www.w3.org/2000/svg\" height=\"24px\"viewBox=\"0 0 24 24\"\n",
              "       width=\"24px\">\n",
              "    <path d=\"M0 0h24v24H0V0z\" fill=\"none\"/>\n",
              "    <path d=\"M18.56 5.44l.94 2.06.94-2.06 2.06-.94-2.06-.94-.94-2.06-.94 2.06-2.06.94zm-11 1L8.5 8.5l.94-2.06 2.06-.94-2.06-.94L8.5 2.5l-.94 2.06-2.06.94zm10 10l.94 2.06.94-2.06 2.06-.94-2.06-.94-.94-2.06-.94 2.06-2.06.94z\"/><path d=\"M17.41 7.96l-1.37-1.37c-.4-.4-.92-.59-1.43-.59-.52 0-1.04.2-1.43.59L10.3 9.45l-7.72 7.72c-.78.78-.78 2.05 0 2.83L4 21.41c.39.39.9.59 1.41.59.51 0 1.02-.2 1.41-.59l7.78-7.78 2.81-2.81c.8-.78.8-2.07 0-2.86zM5.41 20L4 18.59l7.72-7.72 1.47 1.35L5.41 20z\"/>\n",
              "  </svg>\n",
              "      </button>\n",
              "      \n",
              "  <style>\n",
              "    .colab-df-container {\n",
              "      display:flex;\n",
              "      flex-wrap:wrap;\n",
              "      gap: 12px;\n",
              "    }\n",
              "\n",
              "    .colab-df-convert {\n",
              "      background-color: #E8F0FE;\n",
              "      border: none;\n",
              "      border-radius: 50%;\n",
              "      cursor: pointer;\n",
              "      display: none;\n",
              "      fill: #1967D2;\n",
              "      height: 32px;\n",
              "      padding: 0 0 0 0;\n",
              "      width: 32px;\n",
              "    }\n",
              "\n",
              "    .colab-df-convert:hover {\n",
              "      background-color: #E2EBFA;\n",
              "      box-shadow: 0px 1px 2px rgba(60, 64, 67, 0.3), 0px 1px 3px 1px rgba(60, 64, 67, 0.15);\n",
              "      fill: #174EA6;\n",
              "    }\n",
              "\n",
              "    [theme=dark] .colab-df-convert {\n",
              "      background-color: #3B4455;\n",
              "      fill: #D2E3FC;\n",
              "    }\n",
              "\n",
              "    [theme=dark] .colab-df-convert:hover {\n",
              "      background-color: #434B5C;\n",
              "      box-shadow: 0px 1px 3px 1px rgba(0, 0, 0, 0.15);\n",
              "      filter: drop-shadow(0px 1px 2px rgba(0, 0, 0, 0.3));\n",
              "      fill: #FFFFFF;\n",
              "    }\n",
              "  </style>\n",
              "\n",
              "      <script>\n",
              "        const buttonEl =\n",
              "          document.querySelector('#df-ef752894-b3bf-481b-9717-a7f9d1a27eb7 button.colab-df-convert');\n",
              "        buttonEl.style.display =\n",
              "          google.colab.kernel.accessAllowed ? 'block' : 'none';\n",
              "\n",
              "        async function convertToInteractive(key) {\n",
              "          const element = document.querySelector('#df-ef752894-b3bf-481b-9717-a7f9d1a27eb7');\n",
              "          const dataTable =\n",
              "            await google.colab.kernel.invokeFunction('convertToInteractive',\n",
              "                                                     [key], {});\n",
              "          if (!dataTable) return;\n",
              "\n",
              "          const docLinkHtml = 'Like what you see? Visit the ' +\n",
              "            '<a target=\"_blank\" href=https://colab.research.google.com/notebooks/data_table.ipynb>data table notebook</a>'\n",
              "            + ' to learn more about interactive tables.';\n",
              "          element.innerHTML = '';\n",
              "          dataTable['output_type'] = 'display_data';\n",
              "          await google.colab.output.renderOutput(dataTable, element);\n",
              "          const docLink = document.createElement('div');\n",
              "          docLink.innerHTML = docLinkHtml;\n",
              "          element.appendChild(docLink);\n",
              "        }\n",
              "      </script>\n",
              "    </div>\n",
              "  </div>\n",
              "  "
            ]
          },
          "metadata": {},
          "execution_count": 42
        }
      ],
      "source": [
        "# y_test: for example housing_price 2019-2022 (df_test)\n",
        "# y_predict: in-sample prediction, for example, prediction by model for housing_price 2019-2022\n",
        "\n",
        "\n",
        "#Input the test and prediceted array from the models\n",
        "\n",
        "y_test = df_time1_test_raw[\"housing_price\"]\n",
        "\n",
        "y_predict_arima = df_results[\"housing_price_ARIMA_forecast\"]\n",
        "y_predict_arimax = df_results[\"predicted_housing_price_ARIMAX1\"]\n",
        "y_predict_sarima = df_results[\"housing_price_SARIMA_forecast\"]\n",
        "y_predict_sarimax = df_results[\"predicted_housing_price_SARIMAX1\"]\n",
        "y_predict_lstm = df_results[\"housing_price_LSTM_forecast\"]\n",
        "y_predict_rf = df_results[\"housing_price_Randomforest_forecast\"]\n",
        "y_predict_np = df_results[\"housing_price_Prophet_forecast\"]\n",
        "\n",
        "\n",
        "# -------MAE: The easiest to understand. Represents average error\n",
        "mae_arima = metrics.mean_absolute_error(y_test, y_predict_arima)\n",
        "mae_arimax = metrics.mean_absolute_error(y_test, y_predict_arimax)\n",
        "mae_sarima = metrics.mean_absolute_error(y_test, y_predict_sarima)\n",
        "mae_sarimax = metrics.mean_absolute_error(y_test, y_predict_sarimax)\n",
        "mae_lstm = metrics.mean_absolute_error(y_test, y_predict_lstm)\n",
        "mae_rf = metrics.mean_absolute_error(y_test, y_predict_rf)  #random forest\n",
        "mae_np = metrics.mean_absolute_error(y_test, y_predict_np)  #neural prophet\n",
        "\n",
        "# ------MAPE: MAPE can be problematic. Most pointedly, it can cause division-by-zero errors. https://en.wikipedia.org/wiki/Mean_absolute_percentage_error#Issues\n",
        "mape_arima = metrics.mean_absolute_percentage_error(y_test, y_predict_arima)\n",
        "mape_arimax = metrics.mean_absolute_percentage_error(y_test, y_predict_arimax)\n",
        "mape_sarima = metrics.mean_absolute_percentage_error(y_test, y_predict_sarima)\n",
        "mape_sarimax = metrics.mean_absolute_percentage_error(y_test, y_predict_sarimax)\n",
        "mape_lstm = metrics.mean_absolute_percentage_error(y_test, y_predict_lstm)\n",
        "mape_rf = metrics.mean_absolute_percentage_error(y_test, y_predict_rf)\n",
        "mape_np = metrics.mean_absolute_percentage_error(y_test, y_predict_np)\n",
        "\n",
        "# ------MSE: Similar to MAE but noise is exaggerated and larger errors are “punished”. It is harder to interpret than MAE as it’s not in base units, however, it is generally more popular.\n",
        "mse_arima = metrics.mean_squared_error(y_test, y_predict_arima)\n",
        "mse_arimax = metrics.mean_squared_error(y_test, y_predict_arimax)\n",
        "mse_sarima = metrics.mean_squared_error(y_test, y_predict_sarima)\n",
        "mse_sarimax = metrics.mean_squared_error(y_test, y_predict_sarimax)\n",
        "mse_lstm = metrics.mean_squared_error(y_test, y_predict_lstm)\n",
        "mse_rf = metrics.mean_squared_error(y_test, y_predict_rf)\n",
        "mse_np = metrics.mean_squared_error(y_test, y_predict_np)\n",
        "\n",
        "# -----RMSE: Most popular metric, similar to MSE, however, the result is square rooted to make it more interpretable as it’s in base units. It is recommended that RMSE be used as the primary metric to interpret your model.\n",
        "rmse_arima = np.sqrt(metrics.mean_squared_error(y_test, y_predict_arima))\n",
        "rmse_arimax = np.sqrt(metrics.mean_squared_error(y_test, y_predict_arimax))\n",
        "rmse_sarima = np.sqrt(metrics.mean_squared_error(y_test, y_predict_sarima))\n",
        "rmse_sarimax = np.sqrt(metrics.mean_squared_error(y_test, y_predict_sarimax))\n",
        "rmse_lstm = np.sqrt(metrics.mean_squared_error(y_test, y_predict_lstm))\n",
        "rmse_rf = np.sqrt(metrics.mean_squared_error(y_test, y_predict_rf))\n",
        "rmse_np = np.sqrt(metrics.mean_squared_error(y_test, y_predict_np))\n",
        "\n",
        "# -----RMSLE: \n",
        "#ref: https://hrngok.github.io/posts/metrics/#:~:text=Root%20Mean%20Squared%20Logaritmic%20Error%20(RMSLE)&text=It%20is%20the%20Root%20Mean,possible%200%20(zero)%20values.\n",
        "# It is the Root Mean Squared Error of the log-transformed predicted and log-transformed actual values.\n",
        "# RMSLE adds 1 to both actual and predicted values before taking the natural logarithm to avoid taking the natural log of possible 0 (zero) values.\n",
        "# As a result, the function can be used if actual or predicted have zero-valued elements. But this function is not appropriate if either is negative valued\n",
        "\n",
        "rmsle_arima = metrics.mean_squared_log_error(y_test, y_predict_arima, squared=False)   #squared=True --> MSLE, =False --> RMSLE\n",
        "rmsle_arimax = metrics.mean_squared_log_error(y_test, y_predict_arimax, squared=False)\n",
        "rmsle_sarima = metrics.mean_squared_log_error(y_test, y_predict_sarima, squared=False)\n",
        "rmsle_sarimax = metrics.mean_squared_log_error(y_test, y_predict_sarimax, squared=False)\n",
        "rmsle_lstm = metrics.mean_squared_log_error(y_test, y_predict_lstm, squared=False)\n",
        "rmsle_rf = metrics.mean_squared_log_error(y_test, y_predict_rf, squared=False)\n",
        "rmsle_np = metrics.mean_squared_log_error(y_test, y_predict_np, squared=False)\n",
        "\n",
        "# ------R^2\n",
        "R2_arima = metrics.r2_score(y_test, y_predict_arima)\n",
        "R2_arimax = metrics.r2_score(y_test, y_predict_arimax)\n",
        "R2_sarima = metrics.r2_score(y_test, y_predict_sarima)\n",
        "R2_sarimax = metrics.r2_score(y_test, y_predict_sarimax)\n",
        "R2_lstm = metrics.r2_score(y_test, y_predict_lstm)\n",
        "R2_rf = metrics.r2_score(y_test, y_predict_rf)\n",
        "R2_np = metrics.r2_score(y_test, y_predict_np)\n",
        "\n",
        "# ------ create table of those metrics\n",
        "d = {'Model': ['ARIMA', 'ARIMAX', 'SARIMA', 'SARIMAX', 'LSTM',  'Prophet', 'Random Forest'],\n",
        "     'R_squared': [R2_arima, R2_arimax, R2_sarima, R2_sarimax, R2_lstm,  R2_np,  R2_rf],\n",
        "     'MAE': [mae_arima, mae_arimax, mae_sarima, mae_sarimax, mae_lstm, mae_np, mae_rf],\n",
        "     'MAPE': [mape_arima, mape_arimax, mape_sarima, mape_sarimax, mape_lstm,  mape_np,  mape_rf],\n",
        "     'MSE': [mse_arima, mse_arimax, mse_sarima, mse_sarimax, mse_lstm,  mse_np,  mse_rf],\n",
        "     'RMSE': [rmse_arima, rmse_arimax, rmse_sarima, rmse_sarimax, rmse_lstm, rmse_np, rmse_rf],\n",
        "    'RMSLE': [rmsle_arima, rmsle_arimax, rmsle_sarima, rmsle_sarimax, rmsle_lstm, rmsle_np, rmsle_rf]\n",
        "     }\n",
        "\n",
        "accuracy_table = pd.DataFrame(data=d)\n",
        "accuracy_table = accuracy_table.round(3) \n",
        "\n",
        "accuracy_table.to_csv('/content/drive/MyDrive/ds4_housing_data/accuracy_table.csv')\n",
        "accuracy_table\n"
      ]
    },
    {
      "cell_type": "markdown",
      "source": [
        "LSTM has the highest R_squared and the lowest mean average percent error"
      ],
      "metadata": {
        "id": "O-90khFug0w2"
      }
    }
  ],
  "metadata": {
    "colab": {
      "collapsed_sections": [],
      "name": "modeling.ipynb",
      "provenance": [],
      "toc_visible": true
    },
    "kernelspec": {
      "display_name": "Python 3",
      "name": "python3"
    },
    "language_info": {
      "name": "python"
    }
  },
  "nbformat": 4,
  "nbformat_minor": 0
}